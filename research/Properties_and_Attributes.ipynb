{
 "cells": [
  {
   "attachments": {},
   "cell_type": "markdown",
   "metadata": {},
   "source": [
    "# Pydon't - Using properties to add dynamic behaviour to attributes\n",
    "> https://mathspp.com/blog/pydonts/properties\n"
   ]
  },
  {
   "attachments": {},
   "cell_type": "markdown",
   "metadata": {},
   "source": [
    "First off, what is a property? In python it \"is an attribute that is computed dynamically.\"[1]\n",
    "\n",
    "They can be defined via the `property` built-in and lets us make things more dynamic. \n",
    "\n",
    "What we'll learn:\n",
    "\n",
    "    - understand what a property is;\n",
    "    - learn how to implement a property with the built-in property;\n",
    "    - learn how to use property to implement read-only attributes;\n",
    "    - see that property doesn't have to be used as a decorator;\n",
    "    - add setters to your properties;\n",
    "    - use setters to do data validation and normalisation;\n",
    "    - read about deleters in properties; and\n",
    "    - see usages of property in the standard library.\n",
    "\n",
    "____________"
   ]
  },
  {
   "attachments": {},
   "cell_type": "markdown",
   "metadata": {},
   "source": [
    "Below is an example of what happens when attributes go out of sync. If we ever choose to update the attributes of the `Person` class the `name` property is not updated."
   ]
  },
  {
   "cell_type": "code",
   "execution_count": 7,
   "metadata": {},
   "outputs": [
    {
     "name": "stdout",
     "output_type": "stream",
     "text": [
      "John Doe\n",
      "John Doe\n"
     ]
    }
   ],
   "source": [
    "class Person:\n",
    "    def __init__(self, first, last):\n",
    "        self.first = first\n",
    "        self.last = last\n",
    "        self.name = f\"{self.first} {self.last}\"\n",
    "\n",
    "john = Person(\"John\", \"Doe\")\n",
    "print(john.name)\n",
    "john.last = \"Smith\"\n",
    "print(john.name)"
   ]
  },
  {
   "attachments": {},
   "cell_type": "markdown",
   "metadata": {},
   "source": [
    "To fix this we can use getters and setters but this might complicate things as we get middle names involved, titles, multiple-names, etc.... \\\n",
    "What can we do better?\n",
    "Can we make it elegant?\n",
    "\n",
    "\n",
    "Yes! The pythonic way allows us to solve this by using the `property` attribute:\n",
    ">https://docs.python.org/3/library/functions.html#property\n",
    "\n",
    "This lets us define setters, getters, and deleters using the property method or by using decorators.\\\n",
    "The example below is a simple case of the `@property` decorator."
   ]
  },
  {
   "cell_type": "code",
   "execution_count": 11,
   "metadata": {},
   "outputs": [
    {
     "name": "stdout",
     "output_type": "stream",
     "text": [
      "John Doe\n",
      "John Smith\n"
     ]
    }
   ],
   "source": [
    "class Person:\n",
    "    def __init__(self, first, last):\n",
    "        self.first = first\n",
    "        self.last = last\n",
    "    \n",
    "    @property\n",
    "    def name(self):\n",
    "        return f\"{self.first} {self.last}\"\n",
    "\n",
    "john = Person(\"John\", \"Doe\")\n",
    "print(john.name)\n",
    "john.last = \"Smith\"\n",
    "print(john.name)"
   ]
  },
  {
   "attachments": {},
   "cell_type": "markdown",
   "metadata": {},
   "source": [
    "Now, this is not very impressive. Remove the decorator and call `john.name()` with the same effect. So what's the point? Well, it allows us to turn methods into attributes by assigning properties. \n",
    "\n",
    "Looking further, what else can we do?\n",
    "\n",
    "This is the last implementation:"
   ]
  },
  {
   "cell_type": "code",
   "execution_count": 13,
   "metadata": {},
   "outputs": [],
   "source": [
    "class Person:\n",
    "    def __init__(self, first, last):\n",
    "        self.first = first\n",
    "        self.last = last\n",
    "    \n",
    "    @property\n",
    "    def name(self):\n",
    "        return f\"{self.first} {self.last}\"\n",
    "    \n",
    "john = Person(\"John\", \"Doe\")"
   ]
  },
  {
   "attachments": {},
   "cell_type": "markdown",
   "metadata": {},
   "source": [
    "What if we try the following:"
   ]
  },
  {
   "cell_type": "code",
   "execution_count": 14,
   "metadata": {},
   "outputs": [
    {
     "ename": "AttributeError",
     "evalue": "can't set attribute 'name'",
     "output_type": "error",
     "traceback": [
      "\u001b[1;31m---------------------------------------------------------------------------\u001b[0m",
      "\u001b[1;31mAttributeError\u001b[0m                            Traceback (most recent call last)",
      "\u001b[1;32md:\\Dev\\VSCodeProjects\\Properties_and_Attributes.ipynb Cell 10\u001b[0m in \u001b[0;36m1\n\u001b[1;32m----> <a href='vscode-notebook-cell:/d%3A/Dev/VSCodeProjects/Properties_and_Attributes.ipynb#X21sZmlsZQ%3D%3D?line=0'>1</a>\u001b[0m john\u001b[39m.\u001b[39;49mname \u001b[39m=\u001b[39m \u001b[39m\"\u001b[39m\u001b[39mSamuel Jackson\u001b[39m\u001b[39m\"\u001b[39m\n",
      "\u001b[1;31mAttributeError\u001b[0m: can't set attribute 'name'"
     ]
    }
   ],
   "source": [
    "john.name = \"Samuel Jackson\""
   ]
  },
  {
   "attachments": {},
   "cell_type": "markdown",
   "metadata": {},
   "source": [
    "We get an `AttributeError`. To be able to assign a value to this attribute we need to use *setters*. They follow this format: `@attribute.setter`. We just append `.setter` and define the function."
   ]
  },
  {
   "cell_type": "code",
   "execution_count": 17,
   "metadata": {},
   "outputs": [
    {
     "name": "stdout",
     "output_type": "stream",
     "text": [
      "Samuel Jackson\n"
     ]
    }
   ],
   "source": [
    "class Person:\n",
    "    def __init__(self, first, last):\n",
    "        self.first = first\n",
    "        self.last = last\n",
    "    \n",
    "    @property\n",
    "    def name(self):\n",
    "        return f\"{self.first} {self.last}\"\n",
    "    \n",
    "    @name.setter\n",
    "    def name(self, name):\n",
    "        first, last = name.split()\n",
    "        self.first = first\n",
    "        self.last = last\n",
    "    \n",
    "john = Person(\"John\", \"Doe\")\n",
    "john.name = \"Samuel Jackson\"\n",
    "print(john.name)"
   ]
  },
  {
   "attachments": {},
   "cell_type": "markdown",
   "metadata": {},
   "source": [
    "Et voila! Very easy to do and it allows us to avoid a whole mess of calling getter and setter functions.\n",
    "\n",
    "`urllib` also does something similar [1]:\n",
    "```python\n",
    "# urllib/request.py, Python 3.11\n",
    "class Request:\n",
    "    # ...\n",
    "\n",
    "    @full_url.setter\n",
    "    def full_url(self, url):\n",
    "        # unwrap('<URL:type://host/path>') --> 'type://host/path'\n",
    "        self._full_url = unwrap(url)\n",
    "        self._full_url, self.fragment = _splittag(self._full_url)\n",
    "        self._parse()\n",
    "```\n",
    "\n",
    "The *setter* allows us to assign a url as an attribute assignment. It will do the work under-the-hood to assign `_full_url` and `fragment` and will make a call to another function `_parse()` to do what it needs."
   ]
  },
  {
   "attachments": {},
   "cell_type": "markdown",
   "metadata": {},
   "source": []
  },
  {
   "attachments": {},
   "cell_type": "markdown",
   "metadata": {},
   "source": [
    "-----------"
   ]
  },
  {
   "attachments": {},
   "cell_type": "markdown",
   "metadata": {},
   "source": [
    "**Sources:**\n",
    "\n",
    "> [1] Mathspp. \"Mathspp Blog: Properties\" 14 May, 2023. https://mathspp.com/blog/pydonts/properties\n"
   ]
  }
 ],
 "metadata": {
  "kernelspec": {
   "display_name": "fastai",
   "language": "python",
   "name": "python3"
  },
  "language_info": {
   "codemirror_mode": {
    "name": "ipython",
    "version": 3
   },
   "file_extension": ".py",
   "mimetype": "text/x-python",
   "name": "python",
   "nbconvert_exporter": "python",
   "pygments_lexer": "ipython3",
   "version": "3.10.6"
  },
  "orig_nbformat": 4
 },
 "nbformat": 4,
 "nbformat_minor": 2
}
