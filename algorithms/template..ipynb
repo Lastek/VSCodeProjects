{
 "cells": [
  {
   "attachments": {},
   "cell_type": "markdown",
   "metadata": {},
   "source": [
    "Titles are used as such:\n",
    "## <Main Section>\n",
    "### <Sub-Section>\n",
    "\n",
    "Sections for definitions and concepts. Ideally, these are aggregated from the whole section\\chapter. The definitions and explanations are co-mingled.\n",
    "<Definitions and Concepts>\n",
    "    - **<Def 1>**\n",
    "    - **<Def 2>**\n",
    "    - ...\n",
    "<Explanation of Concepts>\n",
    "\n",
    "### <Algorightm>\n",
    "    --New Cell--\n",
    "    <explain what it does>\n",
    "\n",
    "<Explain what happens: ie the indices we use or something>\n",
    "\n",
    "<Explain the logic such as what the loops are doing>\n",
    "\n",
    "## **Sources**\n",
    ">[#] Source Here\n",
    "  \n",
    "In-text citations must be referred to as [#] *location*\n",
    "Must have citation for [#] in Sources section for the specific work being referenced\n",
    "Tables and figures will have a citation below. Full citation for works not in Sources page\n"
   ]
  }
 ],
 "metadata": {
  "language_info": {
   "name": "python"
  },
  "orig_nbformat": 4
 },
 "nbformat": 4,
 "nbformat_minor": 2
}
