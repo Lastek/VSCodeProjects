{
 "cells": [
  {
   "cell_type": "markdown",
   "metadata": {},
   "source": [
    "Titles are used as such:\n",
    "## \\<Main Section\\>\n",
    "### \\<Sub-Section\\>\n",
    "\n",
    "Sections for definitions and concepts. Ideally, these are aggregated from the whole section\\chapter. The definitions and explanations are co-mingled.\n",
    "\n",
    "\\<Definitions and Concepts\\> \n",
    "\n",
    "    - **<Def 1>**\n",
    "    - **<Def 2>**\n",
    "    - ...\n",
    "\n",
    "\\<Explanation of Concepts\\>\n",
    "\n",
    "### \\<Algorightm\\>\n",
    "    --New Cell--\n",
    "    <explain what it does>\n",
    "\n",
    "\\<Explain what happens: ie the indices we use or something\\>\n",
    "\n",
    "\\<Explain the logic such as what the loops are doing\\>\n",
    "\n",
    "## **Sources**\n",
    ">[#] Source Here\n",
    "  \n",
    "In-text citations must be referred to as [#] *location*\n",
    "Must have citation for [#] in Sources section for the specific work being referenced\n",
    "Tables and figures will have a citation below. Full citation for works not in Sources page\n"
   ]
  },
  {
   "cell_type": "code",
   "execution_count": null,
   "metadata": {},
   "outputs": [],
   "source": []
  },
  {
   "cell_type": "markdown",
   "metadata": {},
   "source": [
    "## Graphs (Sections 11, 12, 25)"
   ]
  },
  {
   "cell_type": "markdown",
   "metadata": {},
   "source": [
    "### Definitions and Concepts"
   ]
  },
  {
   "cell_type": "markdown",
   "metadata": {},
   "source": [
    "#### Nodes and Vertices\n",
    "Graphs are a flat representaiton of connections between things. They're like maps that show connections and they can represent physical connections, like subways and electrical grids, or more abstract connections, such as friendship connections between people or numbers in a matrix.\n",
    "\n",
    "There are two components of a graph. The **node** (or **vertex**) and the **edge**:\n",
    "\n",
    " - **Node** or **Vertex**: The object in a graph.\n",
    " - **Edge**: The connection between two nodes of a graph.\n",
    "\n",
    " The graph can have any number of nodes and each node can be connected to any number of other nodes. In the case of *directed* graphs, a node could have directed connections to another node or a connection to itself.\n",
    "\n",
    " Graphs can be connected to nodes more than once. These are called *multigraphs*. All the concepts that will be discussed also apply to *multigraphs* (which I may not cover here).\n",
    "\n",
    " How are they represented with notation? At the base level a graph is just a **vertex set** and an **edge set**.\n",
    "\n",
    "\n",
    " $\n",
    "\\begin{align}\n",
    "\\nonumber\n",
    "V &= \\set{a,b,c} \\\\\n",
    "\\nonumber\n",
    "E &= \\set{(a,c),(a,b)}\n",
    "\\end{align}\n",
    " $\n",
    "<center>\n",
    "    <table>\n",
    "        <tr>\n",
    "            <td>\n",
    "            <center>\n",
    "                <figure class=\"center\">\n",
    "                    <img src=./resources/undirected_graph.png width=320px>\n",
    "                <figcaption>Undirected Graph</figcaption>\n",
    "                </figure>\n",
    "            </center>\n",
    "            </td>\n",
    "            <td>\n",
    "            <center>\n",
    "                <figure class=\"center\">\n",
    "                    <img src=./resources/directed_graph.png width=320px>\n",
    "                <figcaption>Directed Graph</figcaption>\n",
    "                </figure>\n",
    "            </center>\n",
    "            </td>\n",
    "        </tr>\n",
    "    </table>\n",
    "</center>"
   ]
  },
  {
   "cell_type": "markdown",
   "metadata": {},
   "source": [
    "Here are some common terms used in graph theory:\n",
    "\n",
    "- **Adjacent**:\n",
    "- **Endpoints**:\n",
    "- **Neighbor**:\n",
    "- **Degree**:\n",
    "- **Total Degree**:\n",
    "- **Regular Graph**:\n",
    "- **d-Regular Graph**:\n",
    "- **Simple Graph**:\n",
    "- **Parallel Edges**:\n",
    "- **Self-loop**:\n",
    "- **Subgraph**:\n",
    "- **Complete Graph**:\n",
    "- **Clique**:"
   ]
  },
  {
   "cell_type": "markdown",
   "metadata": {},
   "source": [
    "#### Getting around a Graph\n",
    "\n",
    "Once we understand that graphs have nodes that connect to eachother, we can start to reason about the different routes that appear when nodes connect to other nodes.\n",
    "\n",
    "The terminology to describe these routes is very familiar if you've ever been hiking. \n",
    "Path, trail, circuit, walk, euler walk, euler circuit, hamiltonian walk, hamiltonian circuit.\n",
    "Each of these seem more esoteric as we go down the list but they are all very simple to understand. \n",
    "There is also the property of connectedness. \n",
    "\n",
    "- **Walk**:\n",
    "- **Trail**:\n",
    "- **Circuit**:\n",
    "- **Path**:\n",
    "- **Cycle**: \n",
    "\n",
    "Special Walks:\n",
    "\n",
    "- **Euler Circuit**:\n",
    "- **Euler Trail**:\n",
    "- **Hamiltonian Cycle**:\n",
    "- **Hamiltonian Path**:\n"
   ]
  },
  {
   "cell_type": "markdown",
   "metadata": {},
   "source": [
    "#### Properties\n"
   ]
  },
  {
   "cell_type": "markdown",
   "metadata": {},
   "source": [
    "#\n",
    "___\n"
   ]
  },
  {
   "cell_type": "markdown",
   "metadata": {},
   "source": [
    "## Functions for drawing graphs"
   ]
  },
  {
   "cell_type": "markdown",
   "metadata": {},
   "source": [
    "TODO:\n",
    "- a simpler way to specify what type of graph to draw\n",
    "- simpler way to specify what connects to what \n",
    "    - must be able to specify if there are loops, multiple connections.\n",
    "- document what's going on before I forget...\n",
    "\n"
   ]
  },
  {
   "cell_type": "code",
   "execution_count": 34,
   "metadata": {},
   "outputs": [
    {
     "data": {
      "image/png": "[encoded data removed]",
      "text/plain": [
       "<Figure size 640x480 with 1 Axes>"
      ]
     },
     "metadata": {},
     "output_type": "display_data"
    }
   ],
   "source": [
    "# Pain-in-the-ass way of making graphs.\n",
    "# https://networkx.org/documentation/latest/auto_examples/index.html\n",
    "\n",
    "import networkx as nx\n",
    "import matplotlib.pyplot as plt\n",
    "\n",
    "def draw_basic3_undirected():\n",
    "    # Create a graph\n",
    "    G = nx.Graph()\n",
    "\n",
    "    # Define the vertices\n",
    "    vertices = ['a', 'b', 'c']\n",
    "\n",
    "    # Add vertices to the graph\n",
    "    G.add_nodes_from(vertices)\n",
    "\n",
    "    # Define the edges\n",
    "    edges = [('a', 'b'), ('a', 'c')]\n",
    "\n",
    "    # This adds margins to prevent things from getting cut off at the margins\n",
    "    plt.margins(x=0.2, y=0.2)\n",
    "\n",
    "    # Add edges to the graph\n",
    "    G.add_edges_from(edges)\n",
    "\n",
    "    # Draw the graph\n",
    "    # fig, ax = plt.subplots(figsize=(8, 8))  # Adjust the figure size as needed\n",
    "    pos = nx.planar_layout(G, scale=.0001)  # Layout algorithm\n",
    "    # pos = nx.circular_layout(G,)\n",
    "    # pos = nx.spring_layout(G, k=2.4)  # Smaller k value to cluster nodes\n",
    "    # Create a dictionary to specify node colors\n",
    "    node_colors = {'a': 'none',  # 'none' is fully transparent\n",
    "                'b': 'red',\n",
    "                'c': 'blue'}\n",
    "\n",
    "    # Draw the graph without nodes\n",
    "    nx.draw(G, pos, with_labels=True, node_color='#ffffff', node_size=500,alpha=1.,font_size=32)\n",
    "\n",
    "    # Draw transparent nodes using Matplotlib\n",
    "    # for node, color in node_colors.items():\n",
    "    #     nx.draw_networkx_nodes(G, pos, nodelist=[node], node_size=500, node_color=[color], alpha=0.1)\n",
    "\n",
    "    nx.draw_networkx_nodes(G, pos, node_size=5000, node_color='white', edgecolors='black')\n",
    "\n",
    "    nx.draw_networkx_edges(G, pos, width=2.0, alpha=0.7)\n",
    "\n",
    "    # Turn off axis labels\n",
    "    plt.axis('off')\n",
    "\n",
    "\n",
    "    # Save the plot as an image\n",
    "    plt.savefig('undirected_graph.png', format='png', bbox_inches='tight')\n",
    "\n",
    "def draw_baic3_directed():\n",
    "    # Create a graph\n",
    "    G = nx.DiGraph()\n",
    "\n",
    "    # Define the vertices\n",
    "    vertices = ['a', 'b', 'c']\n",
    "\n",
    "    # Add vertices to the graph\n",
    "    G.add_nodes_from(vertices)\n",
    "\n",
    "    # Define the edges\n",
    "    edges = [('a', 'b'), ('a', 'c')]\n",
    "\n",
    "    # Add edges to the graph\n",
    "    \n",
    "    # G.add_edge('a', 'c')  # The manual way of adding edges\n",
    "    # G.add_edge('a','b')\n",
    "    \n",
    "    G.add_edges_from(edges)\n",
    "    \n",
    "    # This adds margins to prevent things from getting cut off at the margins\n",
    "    plt.margins(x=0.2, y=0.2)\n",
    "\n",
    "    # Draw the graph. \n",
    "    pos = nx.planar_layout(G, scale=1)  # Layout algorithm\n",
    "    # pos = nx.circular_layout(G,)\n",
    "    # pos = nx.spring_layout(G, k=2.4)  # Smaller k value to cluster nodes\n",
    "    # Create a dictionary to specify node colors\n",
    "    node_colors = {'a': 'none',  # 'none' is fully transparent\n",
    "                'b': 'red',\n",
    "                'c': 'blue'}\n",
    "\n",
    "    # Draw the graph without nodes\n",
    "    #nx.draw(G, pos, with_labels=True, node_color='#ffffff', node_size=5000,alpha=1.,font_size=32)\n",
    "\n",
    "    # Do you want colored nodes? Uncomment this and adjust accordingly.\n",
    "    # for node, color in node_colors.items():\n",
    "    #     nx.draw_networkx_nodes(G, pos, nodelist=[node], node_size=500, node_color=[color], alpha=0.1)\n",
    "    \n",
    "    \n",
    "    # I think this is a new way of drawing all this stuff. \n",
    "    # The above commented calls may not be neccesary\n",
    "    # Also, for clarity and control, this seems better.\n",
    "    nx.draw_networkx_nodes(G, pos, node_size=5000, node_color='white', edgecolors='red') \n",
    "    \n",
    "    nx.draw_networkx_edges(G, pos, width=2., alpha=0.7, edge_color='blue', arrows=True,arrowsize=20, node_size=5000)\n",
    "    \n",
    "    nx.draw_networkx_labels(G, pos, font_size=32, font_color='darkgreen')\n",
    "    # Turn off axis labels\n",
    "    # plt.axis('off')\n",
    "\n",
    "\n",
    "    # Save the plot as an image\n",
    "    plt.savefig('directed_graph.png', format='png', bbox_inches='tight')\n",
    "\n",
    "# # Display the image inline in the Markdown cell\n",
    "# from IPython.display import Image\n",
    "# Image('undirected_graph.png')\n",
    "draw_baic3_directed()\n"
   ]
  },
  {
   "cell_type": "markdown",
   "metadata": {},
   "source": [
    "## **Sources**\n",
    "\n",
    ">[1] Olds, E., Lysecky, R., & Vahid, F. (2021). CSC 2065: Discrete Structures. zyBooks.\n",
    "\n",
    "<s>>[2] Levin, Oscar. Discrete Mathematics: An Open Introduction, https://discrete.openmathbooks.org/dmoi2/sec_paths.html"
   ]
  },
  {
   "cell_type": "markdown",
   "metadata": {},
   "source": []
  }
 ],
 "metadata": {
  "kernelspec": {
   "display_name": "fastai",
   "language": "python",
   "name": "python3"
  },
  "language_info": {
   "codemirror_mode": {
    "name": "ipython",
    "version": 3
   },
   "file_extension": ".py",
   "mimetype": "text/x-python",
   "name": "python",
   "nbconvert_exporter": "python",
   "pygments_lexer": "ipython3",
   "version": "3.10.6"
  },
  "orig_nbformat": 4
 },
 "nbformat": 4,
 "nbformat_minor": 2
}
