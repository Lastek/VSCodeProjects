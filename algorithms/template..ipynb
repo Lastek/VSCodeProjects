{
 "cells": [
  {
   "cell_type": "code",
   "execution_count": null,
   "metadata": {},
   "outputs": [],
   "source": [
    "**<Algorightm>** <explain what it does>\n",
    "\n",
    "<Explain what happens: ie the indices we use or something>\n",
    "\n",
    "<Explain the logic such as what the loops are doing>"
   ]
  }
 ],
 "metadata": {
  "language_info": {
   "name": "python"
  },
  "orig_nbformat": 4
 },
 "nbformat": 4,
 "nbformat_minor": 2
}
