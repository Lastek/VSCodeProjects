{
 "cells": [
  {
   "cell_type": "code",
   "execution_count": 4,
   "id": "622f5137",
   "metadata": {},
   "outputs": [],
   "source": [
    "input = \"\"\"“””Before︎ I realized Charlie hesitated.︎ Rather︎ easily, David︎ understood︎ Claire' s tone︎ it︎ opened nothing︎ new. Most︎ evenings, Tom held a︎ lantern.︎ Someone yelled near︎ the hill, every sound︎ intensified︎ suddenly.︎ Sometimes︎ the︎ effort pays. Bravery︎ yields. Still, the echo persisted.︎ The sky was︎ heavy with clouds, but︎ no︎ rain fell. We︎ moved︎ in silence,︎ unsure︎ whether︎ to︎ press on︎ or︎ turn︎ back.︎ Each︎ step︎ echoed︎ slightly on the︎ wet︎ stone, a︎ reminder︎ of︎ where we'︎ d︎ been.︎ Charlie︎ s︎ footprints︎ were already fading behind︎ us, swallowed︎ by the︎ mist. No one mentioned︎ what︎ we were all︎ thinking that he︎ wasn︎ t coming︎ back. David︎ clenched his hands in︎ his︎ coat pockets︎ and︎ didn︎ t look︎ at︎ anyone.︎ Claire︎ kept︎ glancing︎ over her shoulder, as︎ if hoping he' d︎ return. I focused︎ on the︎ path,︎ letting the︎ cold wind clear my︎ thoughts. Somewhere︎ nearby,︎ a︎ branch snapped sharp,︎ sudden, unsettling.︎ We︎ stopped.︎ The︎ sound︎ didn t︎ repeat.︎ I︎ could︎ hear︎ my︎ own breathing,︎ slow and︎ shallow. Then we started︎ walking again,︎ slower︎ now.︎ The︎ trail︎ dipped beneath︎ an overhang︎ of trees,︎ dark︎ and︎ close.︎ It︎ felt︎ like entering︎ a︎ memory︎ I︎ hadn︎ t︎ meant to recall.︎ At the base︎ of︎ the︎ ridge, we found the old︎ marker︎ stone. The︎ etching on its face︎ was︎ weathered, nearly︎ gone.︎ Still, I traced︎ it with︎ my︎ fingers, hoping︎ for something familiar.︎ Claire︎ lit︎ a match and︎ held it to the︎ surface.︎ The fire.“””\"\"\"\n"
   ]
  },
  {
   "cell_type": "code",
   "execution_count": 5,
   "metadata": {},
   "outputs": [
    {
     "data": {
      "text/plain": [
       "\"“””Before︎ I realized Charlie hesitated.︎ Rather︎ easily, David︎ understood︎ Claire' s tone︎ it︎ opened nothing︎ new. Most︎ evenings, Tom held a︎ lantern.︎ Someone yelled near︎ the hill, every sound︎ intensified︎ suddenly.︎ Sometimes︎ the︎ effort pays. Bravery︎ yields. Still, the echo persisted.︎ The sky was︎ heavy with clouds, but︎ no︎ rain fell. We︎ moved︎ in silence,︎ unsure︎ whether︎ to︎ press on︎ or︎ turn︎ back.︎ Each︎ step︎ echoed︎ slightly on the︎ wet︎ stone, a︎ reminder︎ of︎ where we'︎ d︎ been.︎ Charlie︎ s︎ footprints︎ were already fading behind︎ us, swallowed︎ by the︎ mist. No one mentioned︎ what︎ we were all︎ thinking that he︎ wasn︎ t coming︎ back. David︎ clenched his hands in︎ his︎ coat pockets︎ and︎ didn︎ t look︎ at︎ anyone.︎ Claire︎ kept︎ glancing︎ over her shoulder, as︎ if hoping he' d︎ return. I focused︎ on the︎ path,︎ letting the︎ cold wind clear my︎ thoughts. Somewhere︎ nearby,︎ a︎ branch snapped sharp,︎ sudden, unsettling.︎ We︎ stopped.︎ The︎ sound︎ didn t︎ repeat.︎ I︎ could︎ hear︎ my︎ own breathing,︎ slow and︎ shallow. Then we started︎ walking again,︎ slower︎ now.︎ The︎ trail︎ dipped beneath︎ an overhang︎ of trees,︎ dark︎ and︎ close.︎ It︎ felt︎ like entering︎ a︎ memory︎ I︎ hadn︎ t︎ meant to recall.︎ At the base︎ of︎ the︎ ridge, we found the old︎ marker︎ stone. The︎ etching on its face︎ was︎ weathered, nearly︎ gone.︎ Still, I traced︎ it with︎ my︎ fingers, hoping︎ for something familiar.︎ Claire︎ lit︎ a match and︎ held it to the︎ surface.︎ The fire.“””\""
      ]
     },
     "execution_count": 5,
     "metadata": {},
     "output_type": "execute_result"
    }
   ],
   "source": [
    "input"
   ]
  },
  {
   "cell_type": "code",
   "execution_count": 56,
   "id": "e586ba9f",
   "metadata": {},
   "outputs": [
    {
     "data": {
      "text/plain": [
       "'101'"
      ]
     },
     "execution_count": 56,
     "metadata": {},
     "output_type": "execute_result"
    }
   ],
   "source": [
    "encoded = input.encode(\"utf-8\")\n",
    "repr(encoded[10])"
   ]
  },
  {
   "cell_type": "code",
   "execution_count": 108,
   "id": "1a0424b2",
   "metadata": {},
   "outputs": [
    {
     "data": {
      "text/plain": [
       "\"Before I realized Charlie hesitated. Rather easily, David understood Claire' s tone it opened nothing new. Most evenings, Tom held a lantern. Someone yelled near the hill, every sound intensified suddenly. Sometimes the effort pays. Bravery yields. Still, the echo persisted. The sky was heavy with clouds, but no rain fell. We moved in silence, unsure whether to press on or turn back. Each step echoed slightly on the wet stone, a reminder of where we' d been. Charlie s footprints were already fading behind us, swallowed by the mist. No one mentioned what we were all thinking that he wasn t coming back. David clenched his hands in his coat pockets and didn t look at anyone. Claire kept glancing over her shoulder, as if hoping he' d return. I focused on the path, letting the cold wind clear my thoughts. Somewhere nearby, a branch snapped sharp, sudden, unsettling. We stopped. The sound didn t repeat. I could hear my own breathing, slow and shallow. Then we started walking again, slower now. The trail dipped beneath an overhang of trees, dark and close. It felt like entering a memory I hadn t meant to recall. At the base of the ridge, we found the old marker stone. The etching on its face was weathered, nearly gone. Still, I traced it with my fingers, hoping for something familiar. Claire lit a match and held it to the surface. The fire.“””\""
      ]
     },
     "execution_count": 108,
     "metadata": {},
     "output_type": "execute_result"
    }
   ],
   "source": [
    "dic = {}\n",
    "for i, c in enumerate(input):\n",
    "    # print(f\"{i:04d} | {c:^6} | {str(c.encode('utf-8')):>6}\")\n",
    "    \n",
    "    if c not in dic:\n",
    "        dic[c] = 0\n",
    "    dic[c] += 1\n",
    "\n",
    "# for k, v in sorted(dic.items(), key=lambda x: x[1], reverse=True):\n",
    "#     print(f\"{k.encode('utf-8')}: {v}\")\n",
    "st = ''\n",
    "for i, word in enumerate(input[3:].split(' ')):\n",
    "    # if not word.islower():\n",
    "    if word[-1].encode('utf-8') == b'\\xef\\xb8\\x8e':\n",
    "        st+= word[:-1]+' '\n",
    "    else: st+= word+' '\n",
    "\n",
    "st = st.strip()\n",
    "st"
   ]
  },
  {
   "cell_type": "code",
   "execution_count": null,
   "id": "994a1e7e",
   "metadata": {},
   "outputs": [],
   "source": []
  }
 ],
 "metadata": {
  "kernelspec": {
   "display_name": "base2",
   "language": "python",
   "name": "python3"
  },
  "language_info": {
   "codemirror_mode": {
    "name": "ipython",
    "version": 3
   },
   "file_extension": ".py",
   "mimetype": "text/x-python",
   "name": "python",
   "nbconvert_exporter": "python",
   "pygments_lexer": "ipython3",
   "version": "3.13.4"
  }
 },
 "nbformat": 4,
 "nbformat_minor": 5
}
