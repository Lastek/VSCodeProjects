{
 "cells": [
  {
   "attachments": {},
   "cell_type": "markdown",
   "metadata": {},
   "source": [
    "## TODO"
   ]
  },
  {
   "attachments": {},
   "cell_type": "markdown",
   "metadata": {},
   "source": [
    "* ### Utility Functions for CH 18"
   ]
  },
  {
   "cell_type": "code",
   "execution_count": 208,
   "metadata": {},
   "outputs": [],
   "source": [
    "def fill_list(n=1000) -> list[int]:\n",
    "    import random\n",
    "    random_ints = [random.randint(1, 1000) for _ in range(n)]\n",
    "    return random_ints\n",
    "\n",
    "#basic length test\n",
    "def test_lists_lengths(a: list[int], b:list[int])-> bool:\n",
    "    if len(a) == len(b): return True\n",
    "    else: return False\n",
    "\n",
    "#basic function to make sure that the values in one list occur the exact number of times\n",
    "def test_lists_count(a: list[int], b:list[int])-> bool: # type: ignore\n",
    "    for i in range(0, len(sorted_list)):\n",
    "        if a.count(a[i]) == b.count(a[i]):\n",
    "            return True\n",
    "        else:\n",
    "            return False\n",
    "\n",
    "# relies on test_lists_count passing successfully\n",
    "def test_lists_contents(a: list[int], b:list[int])-> bool:\n",
    "    for i in range(0, len(a)):\n",
    "        #get count of items from list a for current index\n",
    "        #make sure the item occurs n times in list b\n",
    "        a_c = a.count(a[i])\n",
    "        b_c = 0\n",
    "        \n",
    "        #run through list b finding all matching values\n",
    "        # increment the b_c counter on match\n",
    "        for j in range(0, len(a)):\n",
    "            if a[i] == b[j] : b_c += 1\n",
    "        #if there is any mismatch then immediately fail it\n",
    "        if a_c != b_c: return False\n",
    " \n",
    "    return True\n",
    "\n",
    "#Suite main func\n",
    "def test_suite_run(a: list[int], b:list[int])-> bool:\n",
    "    success = False\n",
    "    \n",
    "    try: \n",
    "        success = test_lists_lengths(a,b)\n",
    "        if success == False: raise Exception()\n",
    "    except: print(\"Exception: test_lists_lengths\")\n",
    "    else: print(\"test_lists_lengths : Pass = \", success )\n",
    "    \n",
    "    try:\n",
    "        success = test_lists_count(a,b)\n",
    "        if success == False: raise Exception()\n",
    "    except: print(\"Exception: test_lists_count\")\n",
    "    else: print(\"test_lists_count: Pass = \" , success)\n",
    "    \n",
    "    try:        \n",
    "        success = test_lists_contents(a,b)\n",
    "        if success == False: raise Exception()\n",
    "    except: print(\"Exception: test_lists_contents\")\n",
    "    else: print(\"test_lists_contents: Pass = \" , success)\n",
    "    \n",
    "    return success\n",
    "\n",
    "#main function to run the comparison suite on the sorted and unsorted arrays\n",
    "def run_array_suite(_unsorted_list: list=[None], sorting_func=None, *args, printRange: int=20):\n",
    "  \n",
    "    \"\"\"\n",
    "    Run suite of functions to compare contents of the sorted and unsorted lists.\n",
    "    Accepts \n",
    "    \n",
    "    Parameter\n",
    "    ---------\n",
    "    _unsorted_list : list\n",
    "       The list to be sorted. This will be treated as immutable.\n",
    "    \n",
    "    sorting_func : None\n",
    "        The function which will be used in testing.\n",
    "    \n",
    "    *args \n",
    "        Any additional arguments that must be passed to the sorting_func\n",
    "        \n",
    "    printRange: int = 20\n",
    "        Sets the print length on output. Helps with large lists.\n",
    "         \n",
    "    \"\"\"\n",
    "    \n",
    "    # Make a copy. \n",
    "    # The copy will be sorted in the next function call.\n",
    "    sorted_list = _unsorted_list.copy()\n",
    "    # Execute the sorting function\n",
    "    sorting_func(sorted_list, *args)\n",
    "    \n",
    "    test_passed = test_suite_run(sorted_list, _unsorted_list)\n",
    "    \n",
    "    print (\"sorted: \", sorted_list[:printRange]) # Truncated output\n",
    "    print (\"unsort: \", _unsorted_list[:printRange]) # Truncated output\n",
    "    print(\"test_suite: Pass = \" , test_passed)\n",
    "    \n",
    " #   if test_passed: \n",
    "   #     %timeit -r 4 -n 3 sorting_func(fill_list(len(_unsorted_list)), shell_sort_generate_gaps(fill_length))\n",
    "\n",
    "\n",
    "\n"
   ]
  },
  {
   "attachments": {},
   "cell_type": "markdown",
   "metadata": {},
   "source": [
    "**Prepare lists**"
   ]
  },
  {
   "cell_type": "code",
   "execution_count": 80,
   "metadata": {},
   "outputs": [],
   "source": [
    "fill_length = 10000\n",
    "unsorted_list: list[int] = fill_list(fill_length)\n",
    "# print(unsorted_list)\n",
    "sorted_list = unsorted_list.copy() #copy so we can use both later for comparison"
   ]
  },
  {
   "attachments": {},
   "cell_type": "markdown",
   "metadata": {
    "tags": []
   },
   "source": [
    " ## 18.4 Shell Sort"
   ]
  },
  {
   "attachments": {
    "image-2.png": {
     "image/png": "[encoded data removed]"
    },
    "image.png": {
     "image/png": "[encoded data removed]"
    }
   },
   "cell_type": "markdown",
   "metadata": {},
   "source": [
    "**Shell Sort** uses a variant of *insertion sort*. It splits a list into **`n`** <u> interleaved lists</u> and sorts them individualy. It then merges the lists back together to obtain a semi-sorted list which can then be fully sorted. This process requires fewer swaps than using simple insertion sort.\n",
    "\n",
    "What is the method of spliting the list? It's a basic gap method. We use a **gap_value** to split up the list. A gap_value of 3 will split the list into 3 interleaved lists. They are interleaved because we select every 3rd element to put into the list. We start at i=0 and increment in i+=3. For the next interleaved list we start at i=1 and increment in i+=3 and so on untill we build our 3 lists. \n",
    "\n",
    "![image.png](attachment:image.png)\n",
    "![image.png](attachment:image-2.png)\n",
    "\n",
    "After we run the insertion sort algo on the lists and then merge the results back using the same interleaving pattern. Finally, run insertion sort on the complete list.\n",
    "\n",
    "P.S. - The list length does not matter when interleaving. Just dont make the `gap_value > len(list)`\n",
    "\n",
    "<Explain the logic such as what the loops are doing>"
   ]
  },
  {
   "attachments": {},
   "cell_type": "markdown",
   "metadata": {},
   "source": [
    "- ### Runtime Complexity of $O(n^{\\frac{3}{2}})$"
   ]
  },
  {
   "cell_type": "code",
   "execution_count": 81,
   "metadata": {},
   "outputs": [],
   "source": [
    "# returns True or False. False should only be returned if we receive no list\n",
    "def insertion_sort_interleaved(a: list[int] = [], idx: int = 0, gap: int = 0) -> bool:\n",
    "    if not a: return False\n",
    "    for i in range(0+idx+gap, len(a), gap):\n",
    "        j=i\n",
    "        # print (gap)\n",
    "        while (j - gap)>= idx and a[j] < a[j-gap]:\n",
    "            k=j-gap\n",
    "            temp = a[j]\n",
    "            a[j] = a[k]\n",
    "            a[k] = temp\n",
    "            j -= gap\n",
    "            \n",
    "# Main shell sort call\n",
    "def shell_sort(a: list[int] = [], gap_values: list[int] = []) -> None:\n",
    "    if not a: return False\n",
    "    for i,j in enumerate(gap_values): # (idx, value)\n",
    "        for k in range(0, j):\n",
    "            insertion_sort_interleaved(a, k, j)\n",
    "            # print(k, j)\n",
    "\n"
   ]
  },
  {
   "cell_type": "code",
   "execution_count": 82,
   "metadata": {},
   "outputs": [],
   "source": [
    "import math"
   ]
  },
  {
   "cell_type": "code",
   "execution_count": 83,
   "metadata": {},
   "outputs": [],
   "source": [
    "def shell_sort_generate_gaps(k: [int] = 100):\n",
    "    a = list(reversed([2**i - 1 for i in range(math.floor(math.sqrt(k))) if (2**i - 1 < k)]))\n",
    "    return a[:-1] #ommit last value. dont want 0\n",
    "# shell_sort(sorted_list, )"
   ]
  },
  {
   "cell_type": "code",
   "execution_count": 84,
   "metadata": {},
   "outputs": [
    {
     "name": "stdout",
     "output_type": "stream",
     "text": [
      "[8191, 4095, 2047, 1023, 511, 255, 127, 63, 31, 15, 7, 3, 1]\n"
     ]
    }
   ],
   "source": [
    "print (shell_sort_generate_gaps(fill_length))"
   ]
  },
  {
   "cell_type": "code",
   "execution_count": 85,
   "metadata": {},
   "outputs": [],
   "source": [
    "shell_sort(sorted_list, shell_sort_generate_gaps(fill_length))"
   ]
  },
  {
   "cell_type": "code",
   "execution_count": 86,
   "metadata": {},
   "outputs": [
    {
     "name": "stdout",
     "output_type": "stream",
     "text": [
      "[1, 1, 1, 1, 1, 1, 1, 2, 2, 2]\n"
     ]
    }
   ],
   "source": [
    "print(sorted_list[:10])"
   ]
  },
  {
   "cell_type": "code",
   "execution_count": 87,
   "metadata": {},
   "outputs": [
    {
     "name": "stdout",
     "output_type": "stream",
     "text": [
      "test_lists_lengths : Pass =  True\n",
      "test_lists_count: Pass =  True\n",
      "test_lists_contents: Pass =  True\n",
      "sorted:  [1, 1, 1, 1, 1, 1, 1, 2, 2, 2]\n",
      "unsort:  [657, 901, 432, 810, 451, 820, 571, 925, 35, 674]\n",
      "test_suite: Pass =  True\n"
     ]
    }
   ],
   "source": [
    "run_array_suite(unsorted_list, shell_sort, shell_sort_generate_gaps(fill_length))"
   ]
  },
  {
   "attachments": {},
   "cell_type": "markdown",
   "metadata": {},
   "source": [
    "## 18.5 Quicksort"
   ]
  },
  {
   "attachments": {},
   "cell_type": "markdown",
   "metadata": {},
   "source": [
    "### The Partitioning Algorithm\n",
    "- This algorithm splits an array into two, a *low and a high part*, using a **pivot** value. The **pivot** value is chosen based on some rule. Usually it is the *middle value of the array*.\n",
    "- Once the pivot is chosen, all the values less than the pivot are moved into the *low part* and all the values higher than the pivot move to the *high part*. \n",
    "  - We say that this array has been **Partitioned** \n",
    "- The algorithm first runs a **Partition** function which consists of a **while** loop, two inner **while** loops to move the indices, and a logical check for index overlap or pass-over.\n",
    "- The **main** **while** loop moves the *low and a high* variable to find the first occurence of numbers higher or lower than the **pivot** value. Next, a logical check is done for index overlap or pass-over. This means there is nothing left to partition. *Else*, use a temp value to swap out values located at *low and high* indices. Then proceed to inc/dec the indices once.\n",
    "  - This process repeats untill the logical check sets a breaking condition for the **main** **while** loop\n",
    "\n",
    "### The Quicksort Algorithm"
   ]
  },
  {
   "cell_type": "code",
   "execution_count": 88,
   "metadata": {},
   "outputs": [],
   "source": [
    "import math\n",
    "def quicksort_partition(a: list[int] = [], lo: int = 0, hi: int = 0) -> int:\n",
    "    \n",
    "    mid = lo + (hi- lo)//2\n",
    "    pivot = a[mid]\n",
    "    \n",
    "    # print(\"lo, hi; mid, pivot\", lo, hi, mid, pivot)\n",
    "    # print(\"list\", a)\n",
    "    while (True):\n",
    "        while a[lo] < pivot: lo += 1\n",
    "        while a[hi] > pivot: hi -= 1\n",
    "        \n",
    "        if( lo>= hi): break\n",
    "        else:\n",
    "            temp = a[lo]\n",
    "            a[lo] = a[hi]\n",
    "            a[hi] = temp\n",
    "            lo += 1\n",
    "            hi -=1\n",
    "\n",
    "    return hi\n",
    "\n",
    "def quicksort(a: list[int] = [], lo: int = 0, hi: int = 0):\n",
    "    if(lo >= hi):\n",
    "        return\n",
    "    \n",
    "    lohi = quicksort_partition(a, lo, hi)\n",
    "    quicksort(a, lo, lohi)\n",
    "    quicksort(a, lohi+1, hi)\n",
    "    \n",
    "\n"
   ]
  },
  {
   "cell_type": "code",
   "execution_count": 89,
   "metadata": {},
   "outputs": [
    {
     "name": "stdout",
     "output_type": "stream",
     "text": [
      "init [552, 164, 965, 37, 907, 524, 640, 495, 356, 64]\n",
      "done [3, 37, 47, 64, 64, 66, 133, 145, 155, 164]\n"
     ]
    }
   ],
   "source": [
    "unsorted_list = fill_list(50)\n",
    "sorted_list = unsorted_list.copy()\n",
    "#quicksort_partition(sorted_list)\n",
    "\n",
    "print(\"init\", sorted_list[:10]) # Truncated output\n",
    "quicksort(sorted_list, 0, len(sorted_list)-1)\n",
    "print (\"done\", sorted_list[:10]) # Truncated output"
   ]
  },
  {
   "attachments": {},
   "cell_type": "markdown",
   "metadata": {},
   "source": [
    "### Quicksort testing"
   ]
  },
  {
   "cell_type": "code",
   "execution_count": 90,
   "metadata": {},
   "outputs": [
    {
     "name": "stdout",
     "output_type": "stream",
     "text": [
      "test_lists_lengths : Pass =  True\n",
      "test_lists_count: Pass =  True\n",
      "test_lists_contents: Pass =  True\n",
      "sorted:  [1, 1, 1, 1, 1, 1, 1, 1, 2, 2]\n",
      "unsort:  [756, 801, 487, 520, 483, 359, 426, 509, 638, 712]\n",
      "test_suite: Pass =  True\n"
     ]
    }
   ],
   "source": [
    "\n",
    "x = 10000\n",
    "\n",
    "unsorted_list = fill_list(x)\n",
    "\n",
    "run_array_suite(unsorted_list, quicksort, 0, x-1)"
   ]
  },
  {
   "attachments": {},
   "cell_type": "markdown",
   "metadata": {},
   "source": [
    "## 18.7 Radix Sort"
   ]
  },
  {
   "attachments": {},
   "cell_type": "markdown",
   "metadata": {},
   "source": [
    "This algorithm is for intiger sorting. It sorts it by bucketing values by decimal place. The bucketing starts at the 1's place and moves to 10's and 100's and so on. This is calculated using $(n/10^i)\\, mod \\, 10$. \\\n",
    "$n$ is the value we're checking \\\n",
    "$i$ is the power of 10 as the divisor. Starts at 0 for the 1's place and moves up to the largest power that we find in the array from the initial peek at the values. \\\n",
    "$ mod\\, 10$ computes the remainder for that specific power we're checking. \\\n",
    "This naturally extends to other base systems where instead of $10^i$ we may do $b^i$ and using $mod \\, b_{divisor}$.\\\n",
    "Ex: $n//\\set{1,16,256,...}\\, mod \\, 16$ for hexdecimal system. \n",
    "\n",
    "Keyword: Lexicographic sorting\n"
   ]
  },
  {
   "cell_type": "code",
   "execution_count": 207,
   "metadata": {},
   "outputs": [],
   "source": [
    "# radix sort for integers.\n",
    "def radix_sort(a: list[int], base: int = 10) -> None:\n",
    "    \"\"\"\n",
    "    Performs Radix Sort on a list of integers.\n",
    "    \n",
    "    Parameters\n",
    "    ---------\n",
    "    a : list\n",
    "       The list to be sorted. Mutable.\n",
    "    \n",
    "    base: int\n",
    "        Base sytem for sorting. Base-10 is default.\n",
    "        *other bases not implemented*\n",
    "    \n",
    "    Returns\n",
    "    --------\n",
    "    None\n",
    "         \n",
    "    \"\"\"\n",
    "    b = a\n",
    "    if base != 10: # Other bases under construction\n",
    "        return\n",
    "    \n",
    "    bucket: list[list[int]] = [[] for _ in range(base)]\n",
    "    \n",
    "    largestDigit = 0\n",
    "    \n",
    "    for i in range(0, len(b)):\n",
    "        if(b[i] > largestDigit):\n",
    "            largestDigit = b[i]\n",
    "    \n",
    "    maxPower = int(math.log10(largestDigit)) # round it \n",
    "    power = 1\n",
    "    # print(\"maxpower:\", maxPower)\n",
    "    # print(\"len: \", len(b))\n",
    "    for i in range(0, maxPower+1):\n",
    "        # print(\"bucket:\", bucket)\n",
    "        # print(\"power:\" , power)\n",
    "        for j in range(0, len(b)):\n",
    "            # print (\"roll idx: \", j)\n",
    "            idx = int(abs( \\\n",
    "                   b[j] / power % base \\\n",
    "                   ))\n",
    "            bucket[idx].append(b[j])\n",
    "            \n",
    "        n = 0\n",
    "        # print(\"bucket:\", bucket)\n",
    "        for j in range(0, len(bucket)):\n",
    "            for k in range(0, len(bucket[j])):\n",
    "                b[n] = bucket[j][k]\n",
    "                n+=1\n",
    "        # alters reference. Not suitable\n",
    "        # b = bucket. #[x for sublist in bucket for x in sublist]\n",
    "        \n",
    "        power *= 10\n",
    "        bucket: list[list[int]] = [[] for _ in range(base)]\n",
    "        "
   ]
  },
  {
   "cell_type": "code",
   "execution_count": 206,
   "metadata": {},
   "outputs": [
    {
     "name": "stdout",
     "output_type": "stream",
     "text": [
      "test_lists_lengths : Pass =  True\n",
      "test_lists_count: Pass =  True\n",
      "test_lists_contents: Pass =  True\n",
      "sorted:  [1, 1, 1, 2, 2, 2, 3, 5, 6, 6, 8, 8, 8, 11, 12, 12, 13, 14, 14, 14]\n",
      "unsort:  [595, 377, 867, 805, 756, 489, 797, 505, 893, 766, 664, 918, 387, 978, 412, 750, 352, 531, 919, 834]\n",
      "test_suite: Pass =  True\n"
     ]
    }
   ],
   "source": [
    "unsorted_list = fill_list(1000)\n",
    "run_array_suite(unsorted_list, radix_sort, printRange=20)"
   ]
  },
  {
   "attachments": {},
   "cell_type": "markdown",
   "metadata": {},
   "source": [
    "#### Misc tests"
   ]
  },
  {
   "cell_type": "code",
   "execution_count": null,
   "metadata": {},
   "outputs": [
    {
     "name": "stdout",
     "output_type": "stream",
     "text": [
      "569 ns ± 33.2 ns per loop (mean ± std. dev. of 5 runs, 100 loops each)\n"
     ]
    }
   ],
   "source": [
    "import random\n",
    "%timeit -r 5 -n 100 math.log10(random.randint(1, 1000))//1"
   ]
  },
  {
   "cell_type": "code",
   "execution_count": null,
   "metadata": {},
   "outputs": [
    {
     "name": "stdout",
     "output_type": "stream",
     "text": [
      "505 ns ± 28 ns per loop (mean ± std. dev. of 5 runs, 100 loops each)\n"
     ]
    }
   ],
   "source": [
    "%timeit -r 5 -n 100 random.randint(1, 1000)//10 %10"
   ]
  },
  {
   "cell_type": "code",
   "execution_count": null,
   "metadata": {},
   "outputs": [],
   "source": [
    "import math"
   ]
  },
  {
   "cell_type": "code",
   "execution_count": null,
   "metadata": {},
   "outputs": [
    {
     "name": "stdout",
     "output_type": "stream",
     "text": [
      "645 ns ± 32.4 ns per loop (mean ± std. dev. of 5 runs, 100 loops each)\n"
     ]
    }
   ],
   "source": [
    "%timeit -r 5 -n 100 math.log(random.randint(1, 1000), 10)//1"
   ]
  },
  {
   "cell_type": "code",
   "execution_count": null,
   "metadata": {},
   "outputs": [
    {
     "data": {
      "text/plain": [
       "2"
      ]
     },
     "execution_count": 70,
     "metadata": {},
     "output_type": "execute_result"
    }
   ],
   "source": [
    "int(math.log10(999)//1)\n",
    "int()"
   ]
  },
  {
   "cell_type": "code",
   "execution_count": null,
   "metadata": {},
   "outputs": [
    {
     "data": {
      "text/plain": [
       "5.0"
      ]
     },
     "execution_count": 75,
     "metadata": {},
     "output_type": "execute_result"
    }
   ],
   "source": [
    "abs(53/10 % 10)//1"
   ]
  },
  {
   "cell_type": "code",
   "execution_count": 173,
   "metadata": {},
   "outputs": [],
   "source": [
    "\n",
    "for i in range(0,0):\n",
    "    print(i)"
   ]
  },
  {
   "cell_type": "code",
   "execution_count": 172,
   "metadata": {},
   "outputs": [
    {
     "data": {
      "text/plain": [
       "1"
      ]
     },
     "execution_count": 172,
     "metadata": {},
     "output_type": "execute_result"
    }
   ],
   "source": [
    "a = [[],[1]]\n",
    "len(a[1])"
   ]
  },
  {
   "cell_type": "code",
   "execution_count": null,
   "metadata": {},
   "outputs": [],
   "source": [
    "def testing(base = 10):\n",
    "    largestDigit = random.randint(1,1000)\n",
    "    if base == 10:\n",
    "        maxPower = int(math.log10(largestDigit)//1) # round it \n",
    "        # largestDigit//10 %10\n",
    "    elif base == 2:\n",
    "        maxPower = int(math.log2(largestDigit)//1)\n",
    "    else:    \n",
    "        maxPower = int(math.log(largestDigit, base)//1)"
   ]
  },
  {
   "cell_type": "code",
   "execution_count": null,
   "metadata": {},
   "outputs": [
    {
     "name": "stdout",
     "output_type": "stream",
     "text": [
      "554 ns ± 7.74 ns per loop (mean ± std. dev. of 100 runs, 100 loops each)\n"
     ]
    }
   ],
   "source": [
    "%timeit -r 100 -n 100 testing(10)"
   ]
  },
  {
   "cell_type": "code",
   "execution_count": null,
   "metadata": {},
   "outputs": [
    {
     "name": "stdout",
     "output_type": "stream",
     "text": [
      "486 ns ± 7.14 ns per loop (mean ± std. dev. of 100 runs, 100 loops each)\n"
     ]
    }
   ],
   "source": [
    "%timeit -r 100 -n 100 random.randint(1, 1000)//10 %10"
   ]
  },
  {
   "cell_type": "code",
   "execution_count": 160,
   "metadata": {},
   "outputs": [
    {
     "data": {
      "text/plain": [
       "[1, 2, 3, 4, 5, 6]"
      ]
     },
     "execution_count": 160,
     "metadata": {},
     "output_type": "execute_result"
    }
   ],
   "source": [
    "bucket = [[1, 2], [3, 4], [5, 6]]\n",
    "a = [x for sublist in bucket for x in sublist]\n",
    "a\n"
   ]
  },
  {
   "cell_type": "code",
   "execution_count": 161,
   "metadata": {},
   "outputs": [
    {
     "data": {
      "text/plain": [
       "3"
      ]
     },
     "execution_count": 161,
     "metadata": {},
     "output_type": "execute_result"
    }
   ],
   "source": [
    "len(bucket)"
   ]
  },
  {
   "cell_type": "code",
   "execution_count": null,
   "metadata": {},
   "outputs": [],
   "source": []
  }
 ],
 "metadata": {
  "kernelspec": {
   "display_name": "fastai",
   "language": "python",
   "name": "python3"
  },
  "language_info": {
   "codemirror_mode": {
    "name": "ipython",
    "version": 3
   },
   "file_extension": ".py",
   "mimetype": "text/x-python",
   "name": "python",
   "nbconvert_exporter": "python",
   "pygments_lexer": "ipython3",
   "version": "3.10.6"
  },
  "orig_nbformat": 4
 },
 "nbformat": 4,
 "nbformat_minor": 2
}
