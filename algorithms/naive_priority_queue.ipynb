{
 "cells": [
  {
   "attachments": {},
   "cell_type": "markdown",
   "metadata": {},
   "source": [
    "This is a naive implementation of a priority queue"
   ]
  },
  {
   "cell_type": "code",
   "execution_count": null,
   "metadata": {},
   "outputs": [],
   "source": [
    "\n",
    "def fill_list(n=10) -> list[int]:\n",
    "    import random\n",
    "    random_ints = [random.randint(1, 100) for _ in range(n)]\n",
    "    return random_ints\n",
    "\n",
    "num_q: list[int] = fill_list(20)\n",
    " \n",
    " \n",
    "class binary_heap():\n",
    "    def __init__(self) -> None:\n",
    "        pass\n",
    "    def push():\n",
    "        pass\n",
    "    def pop():\n",
    "        pass\n",
    "    "
   ]
  },
  {
   "attachments": {},
   "cell_type": "markdown",
   "metadata": {},
   "source": [
    "## Considerations for the priority heap\n",
    "- Must support the following operations\n",
    "    - Insertion if elements with a priority\n",
    "    - Retrieval of elements with a max priority\n",
    "    - Removal of elements\n",
    "    - "
   ]
  },
  {
   "cell_type": "markdown",
   "metadata": {},
   "source": []
  }
 ],
 "metadata": {
  "kernelspec": {
   "display_name": "fastai",
   "language": "python",
   "name": "python3"
  },
  "language_info": {
   "name": "python",
   "version": "3.10.6"
  },
  "orig_nbformat": 4
 },
 "nbformat": 4,
 "nbformat_minor": 2
}
