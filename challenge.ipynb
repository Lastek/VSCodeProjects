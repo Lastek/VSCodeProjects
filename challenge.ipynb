{
 "cells": [
  {
   "cell_type": "markdown",
   "metadata": {},
   "source": [
    "```python\n",
    "def check(x):\n",
    "    return hex((x >> 1) ^ x) == \"0xdeadf00d1337beef\"\n",
    "\n",
    "```\n",
    "### What's x ?"
   ]
  },
  {
   "cell_type": "code",
   "execution_count": 125,
   "metadata": {},
   "outputs": [
    {
     "name": "stdout",
     "output_type": "stream",
     "text": [
      "16045744986338606831\n",
      "0\n",
      "0xdeadf00d1337beef\n",
      "0x37ab7c0344cdefbbc\n",
      "25649706419600540464\n",
      "0x163f610173558c330\n"
     ]
    }
   ],
   "source": [
    "h = 'deadf00d1337beef'\n",
    "i = int(h, 16)\n",
    "print(int(h, 16))\n",
    "\n",
    "print(i ^ (i))\n",
    "print(hex(i))\n",
    "print(hex(i << 2))\n",
    "val = i ^ ((i << 1)+1)\n",
    "print(val)\n",
    "\n",
    "print(hex(val))\n",
    "\n",
    "\n",
    "def check(x):\n",
    "    return hex((x >> 1) ^ x) == \"0xdeadf00d1337beef\""
   ]
  },
  {
   "cell_type": "code",
   "execution_count": 29,
   "metadata": {},
   "outputs": [
    {
     "data": {
      "text/plain": [
       "False"
      ]
     },
     "execution_count": 29,
     "metadata": {},
     "output_type": "execute_result"
    }
   ],
   "source": [
    "check(val+0)"
   ]
  },
  {
   "cell_type": "code",
   "execution_count": 41,
   "metadata": {},
   "outputs": [
    {
     "name": "stdout",
     "output_type": "stream",
     "text": [
      "5\n",
      "11\n",
      "14\n",
      "0\n",
      "5\n"
     ]
    }
   ],
   "source": [
    "print(11 >> 1)\n",
    "print((5 << 1) + 1)\n",
    "print((11>> 1) ^ 11)\n",
    "print(((5<<1)+1)^(11))\n",
    "print(11^14)"
   ]
  },
  {
   "cell_type": "code",
   "execution_count": 119,
   "metadata": {},
   "outputs": [
    {
     "name": "stdout",
     "output_type": "stream",
     "text": [
      "87\n",
      "a: 555\n",
      "p: 830\n",
      "1346\n"
     ]
    }
   ],
   "source": [
    "print((101 >> 1) ^ 101)\n",
    "a = 555\n",
    "p = ((a >> 1) ^ a)\n",
    "print(\"a:\", a)\n",
    "print(\"p:\", p)\n",
    "undo = ((((p << 1))) ^ (p))\n",
    "print(undo)"
   ]
  },
  {
   "cell_type": "code",
   "execution_count": 71,
   "metadata": {},
   "outputs": [
    {
     "name": "stdout",
     "output_type": "stream",
     "text": [
      "0xb1fb080b9aac619e\n"
     ]
    },
    {
     "data": {
      "text/plain": [
       "False"
      ]
     },
     "execution_count": 71,
     "metadata": {},
     "output_type": "execute_result"
    }
   ],
   "source": [
    "b = (i >> 1)-1\n",
    "c = (b << 1)-1\n",
    "print(hex((c >> 1) ^ c))\n",
    "check(c)"
   ]
  },
  {
   "cell_type": "code",
   "execution_count": 64,
   "metadata": {},
   "outputs": [
    {
     "name": "stdout",
     "output_type": "stream",
     "text": [
      "16045744986338606831\n"
     ]
    }
   ],
   "source": [
    "print(c)"
   ]
  },
  {
   "cell_type": "code",
   "execution_count": 68,
   "metadata": {},
   "outputs": [
    {
     "name": "stdout",
     "output_type": "stream",
     "text": [
      "0xdeadf00d1337beef\n"
     ]
    },
    {
     "data": {
      "text/plain": [
       "True"
      ]
     },
     "execution_count": 68,
     "metadata": {},
     "output_type": "execute_result"
    }
   ],
   "source": [
    "print(hex(c))\n",
    "i == c"
   ]
  },
  {
   "cell_type": "code",
   "execution_count": 106,
   "metadata": {},
   "outputs": [
    {
     "data": {
      "text/plain": [
       "62"
      ]
     },
     "execution_count": 106,
     "metadata": {},
     "output_type": "execute_result"
    }
   ],
   "source": [
    "43 ^ 87\n",
    "124 >> 1"
   ]
  },
  {
   "cell_type": "code",
   "execution_count": 296,
   "metadata": {},
   "outputs": [
    {
     "name": "stdout",
     "output_type": "stream",
     "text": [
      "Original: 0xdeadf00d1337beef\n",
      "LShift :  0x1bd5be01a266f7dde\n",
      "Rshift :  0xdeadf00d1337beef\n",
      "Dexor :   0x18364450a00325a64c2ec5d8f3504f8ad\n",
      "Output:   0x285accf1e0056eeadf6cfee9ac5a1686f\n"
     ]
    }
   ],
   "source": [
    "print(\"Original:\", hex(i))\n",
    "c = i << 1\n",
    "print(\"LShift : \", hex(c))\n",
    "deshift = (c >> 1)\n",
    "print(\"Rshift : \", hex(deshift))\n",
    "dexor = (c*i) ^ (i)\n",
    "print(\"Dexor :  \", hex(dexor))\n",
    "x = dexor << 1 ^ i\n",
    "print(\"Output:  \", hex((x >> 1) ^ x))"
   ]
  },
  {
   "cell_type": "code",
   "execution_count": 4,
   "metadata": {},
   "outputs": [
    {
     "name": "stdout",
     "output_type": "stream",
     "text": [
      "0 ^ 0 = 0\n",
      "0 ^ 1 = 1\n",
      "0 ^ 2 = 2\n",
      "0 ^ 3 = 3\n",
      "0 ^ 4 = 4\n",
      "0 ^ 5 = 5\n",
      "0 ^ 6 = 6\n",
      "0 ^ 7 = 7\n",
      "0 ^ 8 = 8\n",
      "0 ^ 9 = 9\n",
      "0 ^ 10 = 10\n",
      "0 ^ 11 = 11\n",
      "0 ^ 12 = 12\n",
      "0 ^ 13 = 13\n",
      "0 ^ 14 = 14\n",
      "0 ^ 15 = 15\n",
      "\n",
      "\n",
      "1 ^ 0 = 1\n",
      "1 ^ 1 = 0\n",
      "1 ^ 2 = 3\n",
      "1 ^ 3 = 2\n",
      "1 ^ 4 = 5\n",
      "1 ^ 5 = 4\n",
      "1 ^ 6 = 7\n",
      "1 ^ 7 = 6\n",
      "1 ^ 8 = 9\n",
      "1 ^ 9 = 8\n",
      "1 ^ 10 = 11\n",
      "1 ^ 11 = 10\n",
      "1 ^ 12 = 13\n",
      "1 ^ 13 = 12\n",
      "1 ^ 14 = 15\n",
      "1 ^ 15 = 14\n",
      "\n",
      "\n",
      "2 ^ 0 = 2\n",
      "2 ^ 1 = 3\n",
      "2 ^ 2 = 0\n",
      "2 ^ 3 = 1\n",
      "2 ^ 4 = 6\n",
      "2 ^ 5 = 7\n",
      "2 ^ 6 = 4\n",
      "2 ^ 7 = 5\n",
      "2 ^ 8 = 10\n",
      "2 ^ 9 = 11\n",
      "2 ^ 10 = 8\n",
      "2 ^ 11 = 9\n",
      "2 ^ 12 = 14\n",
      "2 ^ 13 = 15\n",
      "2 ^ 14 = 12\n",
      "2 ^ 15 = 13\n",
      "\n",
      "\n",
      "3 ^ 0 = 3\n",
      "3 ^ 1 = 2\n",
      "3 ^ 2 = 1\n",
      "3 ^ 3 = 0\n",
      "3 ^ 4 = 7\n",
      "3 ^ 5 = 6\n",
      "3 ^ 6 = 5\n",
      "3 ^ 7 = 4\n",
      "3 ^ 8 = 11\n",
      "3 ^ 9 = 10\n",
      "3 ^ 10 = 9\n",
      "3 ^ 11 = 8\n",
      "3 ^ 12 = 15\n",
      "3 ^ 13 = 14\n",
      "3 ^ 14 = 13\n",
      "3 ^ 15 = 12\n",
      "\n",
      "\n",
      "4 ^ 0 = 4\n",
      "4 ^ 1 = 5\n",
      "4 ^ 2 = 6\n",
      "4 ^ 3 = 7\n",
      "4 ^ 4 = 0\n",
      "4 ^ 5 = 1\n",
      "4 ^ 6 = 2\n",
      "4 ^ 7 = 3\n",
      "4 ^ 8 = 12\n",
      "4 ^ 9 = 13\n",
      "4 ^ 10 = 14\n",
      "4 ^ 11 = 15\n",
      "4 ^ 12 = 8\n",
      "4 ^ 13 = 9\n",
      "4 ^ 14 = 10\n",
      "4 ^ 15 = 11\n",
      "\n",
      "\n",
      "5 ^ 0 = 5\n",
      "5 ^ 1 = 4\n",
      "5 ^ 2 = 7\n",
      "5 ^ 3 = 6\n",
      "5 ^ 4 = 1\n",
      "5 ^ 5 = 0\n",
      "5 ^ 6 = 3\n",
      "5 ^ 7 = 2\n",
      "5 ^ 8 = 13\n",
      "5 ^ 9 = 12\n",
      "5 ^ 10 = 15\n",
      "5 ^ 11 = 14\n",
      "5 ^ 12 = 9\n",
      "5 ^ 13 = 8\n",
      "5 ^ 14 = 11\n",
      "5 ^ 15 = 10\n",
      "\n",
      "\n",
      "6 ^ 0 = 6\n",
      "6 ^ 1 = 7\n",
      "6 ^ 2 = 4\n",
      "6 ^ 3 = 5\n",
      "6 ^ 4 = 2\n",
      "6 ^ 5 = 3\n",
      "6 ^ 6 = 0\n",
      "6 ^ 7 = 1\n",
      "6 ^ 8 = 14\n",
      "6 ^ 9 = 15\n",
      "6 ^ 10 = 12\n",
      "6 ^ 11 = 13\n",
      "6 ^ 12 = 10\n",
      "6 ^ 13 = 11\n",
      "6 ^ 14 = 8\n",
      "6 ^ 15 = 9\n",
      "\n",
      "\n",
      "7 ^ 0 = 7\n",
      "7 ^ 1 = 6\n",
      "7 ^ 2 = 5\n",
      "7 ^ 3 = 4\n",
      "7 ^ 4 = 3\n",
      "7 ^ 5 = 2\n",
      "7 ^ 6 = 1\n",
      "7 ^ 7 = 0\n",
      "7 ^ 8 = 15\n",
      "7 ^ 9 = 14\n",
      "7 ^ 10 = 13\n",
      "7 ^ 11 = 12\n",
      "7 ^ 12 = 11\n",
      "7 ^ 13 = 10\n",
      "7 ^ 14 = 9\n",
      "7 ^ 15 = 8\n",
      "\n",
      "\n",
      "8 ^ 0 = 8\n",
      "8 ^ 1 = 9\n",
      "8 ^ 2 = 10\n",
      "8 ^ 3 = 11\n",
      "8 ^ 4 = 12\n",
      "8 ^ 5 = 13\n",
      "8 ^ 6 = 14\n",
      "8 ^ 7 = 15\n",
      "8 ^ 8 = 0\n",
      "8 ^ 9 = 1\n",
      "8 ^ 10 = 2\n",
      "8 ^ 11 = 3\n",
      "8 ^ 12 = 4\n",
      "8 ^ 13 = 5\n",
      "8 ^ 14 = 6\n",
      "8 ^ 15 = 7\n",
      "\n",
      "\n",
      "9 ^ 0 = 9\n",
      "9 ^ 1 = 8\n",
      "9 ^ 2 = 11\n",
      "9 ^ 3 = 10\n",
      "9 ^ 4 = 13\n",
      "9 ^ 5 = 12\n",
      "9 ^ 6 = 15\n",
      "9 ^ 7 = 14\n",
      "9 ^ 8 = 1\n",
      "9 ^ 9 = 0\n",
      "9 ^ 10 = 3\n",
      "9 ^ 11 = 2\n",
      "9 ^ 12 = 5\n",
      "9 ^ 13 = 4\n",
      "9 ^ 14 = 7\n",
      "9 ^ 15 = 6\n",
      "\n",
      "\n",
      "10 ^ 0 = 10\n",
      "10 ^ 1 = 11\n",
      "10 ^ 2 = 8\n",
      "10 ^ 3 = 9\n",
      "10 ^ 4 = 14\n",
      "10 ^ 5 = 15\n",
      "10 ^ 6 = 12\n",
      "10 ^ 7 = 13\n",
      "10 ^ 8 = 2\n",
      "10 ^ 9 = 3\n",
      "10 ^ 10 = 0\n",
      "10 ^ 11 = 1\n",
      "10 ^ 12 = 6\n",
      "10 ^ 13 = 7\n",
      "10 ^ 14 = 4\n",
      "10 ^ 15 = 5\n",
      "\n",
      "\n",
      "11 ^ 0 = 11\n",
      "11 ^ 1 = 10\n",
      "11 ^ 2 = 9\n",
      "11 ^ 3 = 8\n",
      "11 ^ 4 = 15\n",
      "11 ^ 5 = 14\n",
      "11 ^ 6 = 13\n",
      "11 ^ 7 = 12\n",
      "11 ^ 8 = 3\n",
      "11 ^ 9 = 2\n",
      "11 ^ 10 = 1\n",
      "11 ^ 11 = 0\n",
      "11 ^ 12 = 7\n",
      "11 ^ 13 = 6\n",
      "11 ^ 14 = 5\n",
      "11 ^ 15 = 4\n",
      "\n",
      "\n",
      "12 ^ 0 = 12\n",
      "12 ^ 1 = 13\n",
      "12 ^ 2 = 14\n",
      "12 ^ 3 = 15\n",
      "12 ^ 4 = 8\n",
      "12 ^ 5 = 9\n",
      "12 ^ 6 = 10\n",
      "12 ^ 7 = 11\n",
      "12 ^ 8 = 4\n",
      "12 ^ 9 = 5\n",
      "12 ^ 10 = 6\n",
      "12 ^ 11 = 7\n",
      "12 ^ 12 = 0\n",
      "12 ^ 13 = 1\n",
      "12 ^ 14 = 2\n",
      "12 ^ 15 = 3\n",
      "\n",
      "\n",
      "13 ^ 0 = 13\n",
      "13 ^ 1 = 12\n",
      "13 ^ 2 = 15\n",
      "13 ^ 3 = 14\n",
      "13 ^ 4 = 9\n",
      "13 ^ 5 = 8\n",
      "13 ^ 6 = 11\n",
      "13 ^ 7 = 10\n",
      "13 ^ 8 = 5\n",
      "13 ^ 9 = 4\n",
      "13 ^ 10 = 7\n",
      "13 ^ 11 = 6\n",
      "13 ^ 12 = 1\n",
      "13 ^ 13 = 0\n",
      "13 ^ 14 = 3\n",
      "13 ^ 15 = 2\n",
      "\n",
      "\n",
      "14 ^ 0 = 14\n",
      "14 ^ 1 = 15\n",
      "14 ^ 2 = 12\n",
      "14 ^ 3 = 13\n",
      "14 ^ 4 = 10\n",
      "14 ^ 5 = 11\n",
      "14 ^ 6 = 8\n",
      "14 ^ 7 = 9\n",
      "14 ^ 8 = 6\n",
      "14 ^ 9 = 7\n",
      "14 ^ 10 = 4\n",
      "14 ^ 11 = 5\n",
      "14 ^ 12 = 2\n",
      "14 ^ 13 = 3\n",
      "14 ^ 14 = 0\n",
      "14 ^ 15 = 1\n",
      "\n",
      "\n",
      "15 ^ 0 = 15\n",
      "15 ^ 1 = 14\n",
      "15 ^ 2 = 13\n",
      "15 ^ 3 = 12\n",
      "15 ^ 4 = 11\n",
      "15 ^ 5 = 10\n",
      "15 ^ 6 = 9\n",
      "15 ^ 7 = 8\n",
      "15 ^ 8 = 7\n",
      "15 ^ 9 = 6\n",
      "15 ^ 10 = 5\n",
      "15 ^ 11 = 4\n",
      "15 ^ 12 = 3\n",
      "15 ^ 13 = 2\n",
      "15 ^ 14 = 1\n",
      "15 ^ 15 = 0\n",
      "\n",
      "\n"
     ]
    }
   ],
   "source": [
    "for i in range(16):\n",
    "    for j in range(16):\n",
    "        print(i, \"^\", j, \"=\", i ^ j)\n",
    "    print(\"\\n\")"
   ]
  },
  {
   "cell_type": "code",
   "execution_count": 60,
   "metadata": {},
   "outputs": [
    {
     "name": "stdout",
     "output_type": "stream",
     "text": [
      "0 | 0000 |\n",
      "1 | 0001 |\n",
      "2 | 0010 |\n",
      "3 | 0011 |\n",
      "4 | 0100 |\n",
      "5 | 0101 |\n",
      "6 | 0110 |\n",
      "7 | 0111 |\n",
      "8 | 1000 |\n",
      "9 | 1001 |\n",
      "a | 1010 |\n",
      "b | 1011 |\n",
      "c | 1100 |\n",
      "d | 1101 |\n",
      "e | 1110 |\n",
      "f | 1111 |\n"
     ]
    }
   ],
   "source": [
    "lst = [hex(x)[2:]for x in range(0, 16)]\n",
    "\n",
    "for x in lst:\n",
    "    print(x, \"|\", format(int(x, 16), '#06b')[2:], \"|\", )"
   ]
  },
  {
   "cell_type": "code",
   "execution_count": 227,
   "metadata": {},
   "outputs": [
    {
     "name": "stdout",
     "output_type": "stream",
     "text": [
      "128\n",
      "64\n",
      "32\n",
      "16\n",
      "8\n",
      "4\n",
      "2\n",
      "1\n",
      "    7 | 6 | 5 | 4 | 3 | 2 | 1 | 0 \n",
      "x:  0 | 1 | 1 | 0 | 0 | 0 | 0 | 0\n",
      "y:  0 | 0 | 1 | 1 | 0 | 0 | 0 | 0\n",
      "----------------------------------\n",
      "z:  0 | 1 | 0 | 1 | 0 | 0 | 0 | 0\n",
      "How can z be reversed?\n"
     ]
    }
   ],
   "source": [
    "def fun():\n",
    "    num = 64+32\n",
    "    shifted = num >> 1\n",
    "    x = num\n",
    "    y = shifted\n",
    "    width = 8 \n",
    "    xor = bin(x ^ y)[2:]\n",
    "    x = bin(x)[2:]\n",
    "    y = bin(y)[2:]\n",
    "    # Generate the guide string with Unicode subscripts\n",
    "    guide = \"| \".join(f\"{i:<2}\" for i in range(width-1, -1, -1))\n",
    "    guide = f'    {guide}'\n",
    "    x = x.zfill(width)\n",
    "    y = y.zfill(width)\n",
    "    xor = xor.zfill(width)\n",
    "    x = \" | \".join(x)\n",
    "    y = \" | \".join(y)\n",
    "    xor = \" | \".join(xor)\n",
    "    return [[guide],\n",
    "            # [x, y],\n",
    "            [f'x:  {x}',\n",
    "             f'y:  {y}'],\n",
    "            [\"-\"*len(guide)],\n",
    "            [f'z:  {xor}'],\n",
    "            ['How can z be reversed?']\n",
    "            ]\n",
    "    \n",
    "for i in range(7, -1, -1):\n",
    "    print(2**i)\n",
    "\n",
    "for i in fun():\n",
    "    for j in i:\n",
    "        print(j)"
   ]
  },
  {
   "cell_type": "code",
   "execution_count": null,
   "metadata": {},
   "outputs": [],
   "source": []
  }
 ],
 "metadata": {
  "kernelspec": {
   "display_name": "base",
   "language": "python",
   "name": "python3"
  },
  "language_info": {
   "codemirror_mode": {
    "name": "ipython",
    "version": 3
   },
   "file_extension": ".py",
   "mimetype": "text/x-python",
   "name": "python",
   "nbconvert_exporter": "python",
   "pygments_lexer": "ipython3",
   "version": "3.11.5"
  }
 },
 "nbformat": 4,
 "nbformat_minor": 2
}
