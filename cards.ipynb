{
 "cells": [
  {
   "cell_type": "code",
   "execution_count": 4,
   "metadata": {},
   "outputs": [],
   "source": [
    "import numpy as np\n",
    "import random"
   ]
  },
  {
   "cell_type": "code",
   "execution_count": 5,
   "metadata": {},
   "outputs": [],
   "source": [
    "num_samples = 5\n",
    "num_repeats = 100\n",
    "card_low = 2\n",
    "card_high = 14\n",
    "\n",
    "colors = 4\n",
    "seed = 42"
   ]
  },
  {
   "cell_type": "code",
   "execution_count": null,
   "metadata": {},
   "outputs": [],
   "source": [
    "class Deck:\n",
    "    deck: list = []\n",
    "\n",
    "    def __init__(self):\n",
    "        self.createDeck()\n",
    "\n",
    "    def createDeck(self):\n",
    "        global card_low, card_high\n",
    "        for i in range(card_low, card_high+1):\n",
    "            self.deck.extend([i for x in range(0, 4)])\n",
    "\n",
    "    def shuffle():\n",
    "        pass\n",
    "\n",
    "    # card_num 2-14\n",
    "    # card_suit 0-4\n",
    "    # card suit mapping : | 0 : d | 1 : s | 2 : h | 3 : c |\n",
    "\n",
    "    def lookup(card_num: int, card_suit: int) -> int:\n",
    "        # y = (x-2)*4 + suit\n",
    "        if (card_suit < 0 and card_suit > 3):\n",
    "            raise ValueError(\"card_suit is not correct. Given: \" + card_suit)\n",
    "        else:\n",
    "            return (card_num-2)*4 + card_suit\n",
    "\n",
    "\n",
    "deck = Deck()\n",
    "deck\n",
    "len(deck.deck)\n",
    "# TODO: pick and replace functions\n",
    "#"
   ]
  },
  {
   "cell_type": "code",
   "execution_count": 7,
   "metadata": {},
   "outputs": [
    {
     "data": {
      "text/plain": [
       "[13, 9, 3, 14, 5]"
      ]
     },
     "execution_count": 7,
     "metadata": {},
     "output_type": "execute_result"
    }
   ],
   "source": [
    "sample = [np.random.randint(2, 14+1)\n",
    "          for x in range(0, num_samples)]\n",
    "sample"
   ]
  },
  {
   "cell_type": "code",
   "execution_count": 12,
   "metadata": {},
   "outputs": [
    {
     "data": {
      "text/plain": [
       "True"
      ]
     },
     "execution_count": 12,
     "metadata": {},
     "output_type": "execute_result"
    }
   ],
   "source": [
    "str == type(\"1\")"
   ]
  }
 ],
 "metadata": {
  "kernelspec": {
   "display_name": "base",
   "language": "python",
   "name": "python3"
  },
  "language_info": {
   "codemirror_mode": {
    "name": "ipython",
    "version": 3
   },
   "file_extension": ".py",
   "mimetype": "text/x-python",
   "name": "python",
   "nbconvert_exporter": "python",
   "pygments_lexer": "ipython3",
   "version": "3.12.9"
  }
 },
 "nbformat": 4,
 "nbformat_minor": 2
}
