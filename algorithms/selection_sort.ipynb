{
 "cells": [
  {
   "attachments": {},
   "cell_type": "markdown",
   "metadata": {},
   "source": [
    "## Ch 18.2"
   ]
  },
  {
   "attachments": {},
   "cell_type": "markdown",
   "metadata": {},
   "source": [
    "**Selection sort**\n",
    " is a sorting algorithm that treats the input as two parts, a ***sorted part*** and an ***unsorted part***, and repeatedly selects the proper next value to move from the unsorted part to the end of the sorted part.\n",
    "\n",
    "we use three indices to track what's going on. \n",
    "\n",
    "`i and j` move through the array to find which numbers are smaller.\n",
    "\n",
    "`smallestIndex` keesp track of the current smallest value index.\n",
    "\n",
    "The algorightm has an unsorted and sorted part, moving left to right.\n",
    "\n",
    "Element i compares against j and if j is smaller than i then smallestIndex is set to j \\\n",
    "`if (i < j) then j=smallestIndex`\n",
    "it then continues searching using j untill the end of array while repeating this process.\\\n",
    "at the end the i & smallestIndex values are swapped and now we resume the process after i'th element.\\\n",
    "I.E. `i == i+1` usually done via an incremental loop \\\n",
    "now set `j = i+1` and repeat the whole process again untill we run out of array.\n",
    "\n"
   ]
  },
  {
   "attachments": {},
   "cell_type": "markdown",
   "metadata": {},
   "source": [
    "## $O(n^2)$ running time\n",
    "Quite inneficient. Might be better to use something like mergesort"
   ]
  },
  {
   "attachments": {},
   "cell_type": "markdown",
   "metadata": {},
   "source": [
    "### Bench result:\n",
    "1000 random elements 1-100 \\\n",
    "2.79 s ± 16.8 ms per loop (mean ± std. dev. of 10 runs, 10 loops each)"
   ]
  },
  {
   "cell_type": "code",
   "execution_count": 10,
   "metadata": {},
   "outputs": [
    {
     "name": "stdout",
     "output_type": "stream",
     "text": [
      "done sorting\n",
      "test_lists_lengths : Pass =  True\n",
      "test_lists_count: Pass =  True\n",
      "test_lists_contents: Pass =  True\n",
      "test_suite: Pass =  True\n",
      "2.81 s ± 19.9 ms per loop (mean ± std. dev. of 4 runs, 3 loops each)\n"
     ]
    }
   ],
   "source": [
    "def fill_list(n=10000) -> list[int]:\n",
    "    import random\n",
    "    random_ints = [random.randint(1, 100) for _ in range(n)]\n",
    "    return random_ints\n",
    "\n",
    "unsorted_list: list[int] = fill_list()\n",
    "\n",
    "# print(unsorted_list)\n",
    "\n",
    "sorted_list = unsorted_list.copy() #copy so we can use both later for comparison\n",
    "\n",
    "def selection_sort(a) -> None:\n",
    "    for i in range(0, len(sorted_list)):\n",
    "        smallestIndex = i\n",
    "        \n",
    "        for j in range(i+1, len(sorted_list)):\n",
    "            if sorted_list[smallestIndex] > sorted_list[j]:\n",
    "                smallestIndex = j\n",
    "                \n",
    "        #temporary holder since we're replacing this value with the smallest one\n",
    "        temp = sorted_list[i]\n",
    "        #do the replacement\n",
    "        sorted_list[i] = sorted_list[smallestIndex]\n",
    "        #put the temp value back into list\n",
    "        sorted_list[smallestIndex] = temp\n",
    "\n",
    "selection_sort(sorted_list)\n",
    "#we're done\n",
    "print(\"done sorting\")\n",
    "\n",
    "#basic length test\n",
    "def test_lists_lengths(a: list[int], b:list[int])-> bool:\n",
    "    if len(a) == len(b): return True\n",
    "    else: return False\n",
    "\n",
    "#basic function to make sure that the values in one list occur the exact number of times\n",
    "def test_lists_count(a: list[int], b:list[int])-> bool: # type: ignore\n",
    "    for i in range(0, len(sorted_list)):\n",
    "        if a.count(a[i]) == b.count(a[i]):\n",
    "            return True\n",
    "        else:\n",
    "            return False\n",
    "\n",
    "# relies on test_lists_count passing successfully\n",
    "def test_lists_contents(a: list[int], b:list[int])-> bool:\n",
    "    for i in range(0, len(a)):\n",
    "        #get count of items from list a for current index\n",
    "        #make sure the item occurs n times in list b\n",
    "        a_c = a.count(a[i])\n",
    "        b_c = 0\n",
    "        \n",
    "        #run through list b finding all matching values\n",
    "        # increment the b_c counter on match\n",
    "        for j in range(0, len(a)):\n",
    "            if a[i] == b[j] : b_c += 1\n",
    "        #if there is any mismatch then immediately fail it\n",
    "        if a_c != b_c: return False\n",
    " \n",
    "    return True\n",
    "\n",
    "#Suite main func\n",
    "def test_suite_run(a: list[int], b:list[int])-> bool:\n",
    "    success = False\n",
    "    \n",
    "    try: \n",
    "        success = test_lists_lengths(a,b)\n",
    "        if success == False: raise Exception()\n",
    "    except: print(\"Exception: test_lists_lengths\")\n",
    "    else: print(\"test_lists_lengths : Pass = \", success )\n",
    "    \n",
    "    try:\n",
    "        success = test_lists_count(a,b)\n",
    "        if success == False: raise Exception()\n",
    "    except: print(\"Exception: test_lists_count\")\n",
    "    else: print(\"test_lists_count: Pass = \" , success)\n",
    "    \n",
    "    try:        \n",
    "        success = test_lists_contents(a,b)\n",
    "        if success == False: raise Exception()\n",
    "    except: print(\"Exception: test_lists_contents\")\n",
    "    else: print(\"test_lists_contents: Pass = \" , success)\n",
    "    \n",
    "    return success\n",
    "\n",
    "test_passed = test_suite_run(sorted_list, unsorted_list)\n",
    "print(\"test_suite: Pass = \" , test_passed)\n",
    "\n",
    "unsorted_list: list[int] = fill_list()\n",
    "\n",
    "if test_passed: \n",
    "    %timeit -r 4 -n 3 selection_sort(fill_list())\n",
    "#run test\n"
   ]
  },
  {
   "cell_type": "code",
   "execution_count": null,
   "metadata": {},
   "outputs": [],
   "source": []
  },
  {
   "cell_type": "code",
   "execution_count": null,
   "metadata": {},
   "outputs": [],
   "source": []
  }
 ],
 "metadata": {
  "kernelspec": {
   "display_name": "fastai",
   "language": "python",
   "name": "python3"
  },
  "language_info": {
   "codemirror_mode": {
    "name": "ipython",
    "version": 3
   },
   "file_extension": ".py",
   "mimetype": "text/x-python",
   "name": "python",
   "nbconvert_exporter": "python",
   "pygments_lexer": "ipython3",
   "version": "3.10.6"
  },
  "orig_nbformat": 4
 },
 "nbformat": 4,
 "nbformat_minor": 2
}
