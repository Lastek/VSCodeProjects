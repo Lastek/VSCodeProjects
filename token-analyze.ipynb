{
 "cells": [
  {
   "cell_type": "code",
   "execution_count": 4,
   "id": "622f5137",
   "metadata": {},
   "outputs": [],
   "source": [
    "input = \"\"\"“””Before︎ I realized Charlie hesitated.︎ Rather︎ easily, David︎ understood︎ Claire' s tone︎ it︎ opened nothing︎ new. Most︎ evenings, Tom held a︎ lantern.︎ Someone yelled near︎ the hill, every sound︎ intensified︎ suddenly.︎ Sometimes︎ the︎ effort pays. Bravery︎ yields. Still, the echo persisted.︎ The sky was︎ heavy with clouds, but︎ no︎ rain fell. We︎ moved︎ in silence,︎ unsure︎ whether︎ to︎ press on︎ or︎ turn︎ back.︎ Each︎ step︎ echoed︎ slightly on the︎ wet︎ stone, a︎ reminder︎ of︎ where we'︎ d︎ been.︎ Charlie︎ s︎ footprints︎ were already fading behind︎ us, swallowed︎ by the︎ mist. No one mentioned︎ what︎ we were all︎ thinking that he︎ wasn︎ t coming︎ back. David︎ clenched his hands in︎ his︎ coat pockets︎ and︎ didn︎ t look︎ at︎ anyone.︎ Claire︎ kept︎ glancing︎ over her shoulder, as︎ if hoping he' d︎ return. I focused︎ on the︎ path,︎ letting the︎ cold wind clear my︎ thoughts. Somewhere︎ nearby,︎ a︎ branch snapped sharp,︎ sudden, unsettling.︎ We︎ stopped.︎ The︎ sound︎ didn t︎ repeat.︎ I︎ could︎ hear︎ my︎ own breathing,︎ slow and︎ shallow. Then we started︎ walking again,︎ slower︎ now.︎ The︎ trail︎ dipped beneath︎ an overhang︎ of trees,︎ dark︎ and︎ close.︎ It︎ felt︎ like entering︎ a︎ memory︎ I︎ hadn︎ t︎ meant to recall.︎ At the base︎ of︎ the︎ ridge, we found the old︎ marker︎ stone. The︎ etching on its face︎ was︎ weathered, nearly︎ gone.︎ Still, I traced︎ it with︎ my︎ fingers, hoping︎ for something familiar.︎ Claire︎ lit︎ a match and︎ held it to the︎ surface.︎ The fire.“””\"\"\"\n"
   ]
  },
  {
   "cell_type": "code",
   "execution_count": 5,
   "metadata": {},
   "outputs": [
    {
     "data": {
      "text/plain": [
       "\"“””Before︎ I realized Charlie hesitated.︎ Rather︎ easily, David︎ understood︎ Claire' s tone︎ it︎ opened nothing︎ new. Most︎ evenings, Tom held a︎ lantern.︎ Someone yelled near︎ the hill, every sound︎ intensified︎ suddenly.︎ Sometimes︎ the︎ effort pays. Bravery︎ yields. Still, the echo persisted.︎ The sky was︎ heavy with clouds, but︎ no︎ rain fell. We︎ moved︎ in silence,︎ unsure︎ whether︎ to︎ press on︎ or︎ turn︎ back.︎ Each︎ step︎ echoed︎ slightly on the︎ wet︎ stone, a︎ reminder︎ of︎ where we'︎ d︎ been.︎ Charlie︎ s︎ footprints︎ were already fading behind︎ us, swallowed︎ by the︎ mist. No one mentioned︎ what︎ we were all︎ thinking that he︎ wasn︎ t coming︎ back. David︎ clenched his hands in︎ his︎ coat pockets︎ and︎ didn︎ t look︎ at︎ anyone.︎ Claire︎ kept︎ glancing︎ over her shoulder, as︎ if hoping he' d︎ return. I focused︎ on the︎ path,︎ letting the︎ cold wind clear my︎ thoughts. Somewhere︎ nearby,︎ a︎ branch snapped sharp,︎ sudden, unsettling.︎ We︎ stopped.︎ The︎ sound︎ didn t︎ repeat.︎ I︎ could︎ hear︎ my︎ own breathing,︎ slow and︎ shallow. Then we started︎ walking again,︎ slower︎ now.︎ The︎ trail︎ dipped beneath︎ an overhang︎ of trees,︎ dark︎ and︎ close.︎ It︎ felt︎ like entering︎ a︎ memory︎ I︎ hadn︎ t︎ meant to recall.︎ At the base︎ of︎ the︎ ridge, we found the old︎ marker︎ stone. The︎ etching on its face︎ was︎ weathered, nearly︎ gone.︎ Still, I traced︎ it with︎ my︎ fingers, hoping︎ for something familiar.︎ Claire︎ lit︎ a match and︎ held it to the︎ surface.︎ The fire.“””\""
      ]
     },
     "execution_count": 5,
     "metadata": {},
     "output_type": "execute_result"
    }
   ],
   "source": [
    "input"
   ]
  },
  {
   "cell_type": "code",
   "execution_count": 56,
   "id": "e586ba9f",
   "metadata": {},
   "outputs": [
    {
     "data": {
      "text/plain": [
       "'101'"
      ]
     },
     "execution_count": 56,
     "metadata": {},
     "output_type": "execute_result"
    }
   ],
   "source": [
    "encoded = input.encode(\"utf-8\")\n",
    "repr(encoded[10])"
   ]
  },
  {
   "cell_type": "code",
   "execution_count": 92,
   "id": "1a0424b2",
   "metadata": {},
   "outputs": [
    {
     "name": "stdout",
     "output_type": "stream",
     "text": [
      "b' ': 239\n",
      "b'e': 152\n",
      "b'\\xef\\xb8\\x8e': 132\n",
      "b't': 85\n",
      "b'n': 84\n",
      "b'a': 77\n",
      "b'o': 67\n",
      "b'i': 67\n",
      "b'h': 65\n",
      "b'r': 62\n",
      "b'd': 57\n",
      "b's': 57\n",
      "b'l': 55\n",
      "b'.': 27\n",
      "b'w': 27\n",
      "b'c': 25\n",
      "b'g': 23\n",
      "b'f': 20\n",
      "b',': 20\n",
      "b'm': 20\n",
      "b'y': 19\n",
      "b'u': 19\n",
      "b'p': 19\n",
      "b'k': 11\n",
      "b'b': 11\n",
      "b'v': 9\n",
      "b'T': 7\n",
      "b'I': 6\n",
      "b'C': 5\n",
      "b'S': 5\n",
      "b'\\xe2\\x80\\x9d': 4\n",
      "b\"'\": 3\n",
      "b'\\xe2\\x80\\x9c': 2\n",
      "b'B': 2\n",
      "b'D': 2\n",
      "b'W': 2\n",
      "b'z': 1\n",
      "b'R': 1\n",
      "b'M': 1\n",
      "b'E': 1\n",
      "b'N': 1\n",
      "b'A': 1\n"
     ]
    }
   ],
   "source": [
    "dic = {}\n",
    "for i, c in enumerate(input):\n",
    "    # print(f\"{i:04d} | {c:^6} | {str(c.encode('utf-8')):>6}\")\n",
    "    \n",
    "    if c not in dic:\n",
    "        dic[c] = 0\n",
    "    dic[c] += 1\n",
    "\n",
    "for k, v in sorted(dic.items(), key=lambda x: x[1], reverse=True):\n",
    "    print(f\"{k.encode('utf-8')}: {v}\")\n",
    "\n",
    "\n",
    "# for i, word in enumerate(input.split(' ') ):\n",
    "#     print(i, word)\n",
    "\n",
    "\n",
    "\n",
    "\n"
   ]
  },
  {
   "cell_type": "code",
   "execution_count": null,
   "id": "994a1e7e",
   "metadata": {},
   "outputs": [],
   "source": []
  }
 ],
 "metadata": {
  "kernelspec": {
   "display_name": "base2",
   "language": "python",
   "name": "python3"
  },
  "language_info": {
   "codemirror_mode": {
    "name": "ipython",
    "version": 3
   },
   "file_extension": ".py",
   "mimetype": "text/x-python",
   "name": "python",
   "nbconvert_exporter": "python",
   "pygments_lexer": "ipython3",
   "version": "3.13.4"
  }
 },
 "nbformat": 4,
 "nbformat_minor": 5
}
