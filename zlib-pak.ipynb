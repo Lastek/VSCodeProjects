{
 "cells": [
  {
   "cell_type": "code",
   "execution_count": 1,
   "metadata": {},
   "outputs": [],
   "source": [
    "import zlib"
   ]
  },
  {
   "cell_type": "code",
   "execution_count": 1,
   "metadata": {},
   "outputs": [
    {
     "name": "stdout",
     "output_type": "stream",
     "text": [
      "b\"zlib\\x00\\x00\\x0c\\\\\\x00\\x00\\x00\\x1e\\x00\\x00\\x00=\\x00\\x01\\x00\\x00\\x00\\x00\\x00\\x01\\x00\\x00\\x00\\x00\\x00\\x00\\x00\\x00\\x00\\x00\\x00\\x00\\x00\\x00\\x00\\x00\\x00\\x00\\x00\\x00\\x00\\x00\\x00\\x0fi\\x00\\x00\\x00\\x0c\\\\\\x16\\x93\\xdbL\\xc6\\x90\\xee>\\x1cOT\\xc0\\x162\\x04\\xb9\\x00\\x00\\x00\\x01\\x00\\x00\\xf1\\xad9\\x00\\x00\\x00\\r\\xd61X\\xcc\\xf5'\\xfc\\xb7\\x85\\xf4\\x8d;\\xcam`\\xa9\\xf7\\x00\\x00\\x00\\xf3\\x00\\x009\\x81#\\x00\\x00i\\xbe/}|\\xd9;\\xe6Q\\xf3f05\\xb6\\t\\xb1\\xd4zz\\x00\\x00\\x01-\\x00\\x00\\x14\\xe4\\x85\\x00\\x00\\x83\\xc9<[\\x1c\\xa8\\xb3\\x14\\xb4e`'_\\xcf&\"\n",
      "b'>\\xc2r\\x9f\\xd8\\xee]\\xfc\\xaf\\xe53\\xfc\\x89-\\xfeB\\x7f\\x86\\x95\\xaf\\xdc\\xbf\\xe0\\xbfY\\xbe\\xe3\\xbfx\\xb6\\xfbV\\xfc\\xc3\\xf2\\x13\\xfe\\xc6\\x16\\xff\\xa2\\x7f\\xc2\\x8aOk\\xe7\\xfe\\x0b\\xff\\x87\\xed\\x10\\xad\\x1d\\xff\\xcb\\xb3\\xdd\\xb7\\xe2\\x90\\x96P\\xf0\\x1flqh:\\x14\\xac\\x84\\xe1\\x1e\\x1a\\x1f\\x96\\xf8\\xe2|y#\\x0e\\xc7\\xd6=<\\xde\\x97\\x84\\xc3E\\xc0\\x87\\'\\xf2\\x7fZ\"Z\"Y\"[\\xa2\\xc0\\x11\\xe1\\xa8\\xechl\\xf9\\xe8x\\xed\\x18t48:;&[>\\x16^;6\\x1d\\x13\\x8e\\xc5\\x8e\\xc3\\x96\\x8f\\x8b\\xd7\\x8eG\\xc7\\x81\\xe3\\xb2\\xe3\\xb3\\xe5\\x13\\xe0\\xb5\\x13\\xd2\\xf1\\xe1\\x04\\xecDl\\xf9\\xc4x\\xed$t\"81;)[>\\x19^;9\\xdb\\xe5$\\xbcM\\x81ON\\xe4R\\x92\\x14\\xb8\\x94\\xf8T\\x96\\xd4x\\xb94\\x96\\xb4\\x96t\\x96\\xf4\\xb0\\\\\\x06\\xb6{\\x17g\\xb4d\\x823\\xb0\\xc5\\x99\\xe9L\\xb0\\x92\\x85{f\\xbc\\x9f%+>\\xb3g\\xbbo\\xc5\\xd9,\\xd9a?\\xb68\\x07\\x9d\\x1dVrr\\xcf\\x81\\xcfe\\xc9\\x8d\\xcf\\xe1\\xd9\\xee[q\\x1eK^8\\x17[\\x9c\\x8f\\xce\\x0b+\\x7fq\\xcf\\x87\\xcfO\\n\\xe0\\n\\xf0F\\\\\\x90\\xad{!|\\x01R\\x10W\\x18_\\x88\\xc8\\x17\\xb1\\x14\\xb5\\x14\\xb3\\x14\\xb7\\x94\\x80\\x8b\\xc2%\\xd9\\xa5\\xd8\\xf2\\xa5\\xf1\\xdae\\xe8RpivY\\xb6|9\\xbcvy\\xba,\\\\\\x8e]\\x81-_\\x11\\xaf]\\x89\\xae\\x00WdWf\\xcbW\\xc1kW\\xa5+\\xc3U\\xd8\\xd5\\xd8\\xf2\\xd5\\xf1\\xda5\\xe8jpuvM\\xb6|-\\xbcvm\\xb6\\xcb5x[\\x07_\\x9b\\xc8\\xd5%upu\\xf1\\xf5,\\xf5\\xf1r\\r,\\r-\\x8d,\\x8da\\xb9&l\\xf7.nji\\x067a\\x8b\\x9b\\xd3\\xcd`\\xc5\\x9f{s|\\x0bK\\x00\\xbe\\xb9g\\xbbo\\xc5\\x81\\x96\\x96p\\x0b\\xb6\\xb8\\x15\\xdd\\x12VZso\\x85oci\\x8bo\\xe5\\xd9\\xee[q;K{\\xb8\\r[\\xdc\\x81n\\x0f+\\x1d\\xb9w\\xc0w\"\\x9dq\\x9dy#\\xee\\xc2\\xd6\\xbd+\\xbe3\\xe9\\x82\\xeb\\x86\\xefJ\\xe4\\xbb[zXzZzYz\\xc3=\\xe0>\\xec\\xbel\\xf9~x\\xed\\xfet_\\xb8\\x1f{\\x00[~ ^{\\x10=\\x00\\x1e\\xc8\\x1e\\xcc\\x96\\x1f\\x82\\xd7\\x1eJ\\x0f\\x86\\x87\\xb0\\x87\\xb1\\xe5\\x87\\xe3\\xb5G\\xd0\\xc3\\xe0\\xe1\\xec\\x91l\\xf9Qx\\xed\\xd1\\xf4Hx\\x14{\\x0c[~,^{\\x1c\\xdb\\xe5\\xd1\\xbc\\x1d\\x8f\\x1fG\\xe4\\xfe&\\xe3q\\x7f\\xe3\\'X&\\xe2\\xe5&Y&[\\xa6X\\xa6\\xc2r\\xd3\\xd8\\xee]<\\xdd2\\x03\\x9e\\xc6\\x16\\x07\\xd13`e&\\xf7 \\xfc,\\xcbl|\\x90g\\xbbo\\xc5s,s\\xe1Yl\\xf1<z.\\xac\\xcc\\xe7>\\x0f\\xbf\\xc0\\xb2\\x10?\\xcf\\xb3\\xdd\\xb7\\xe2E\\x96\\xc5\\xf0\\x02\\xb6x\\t\\xbd\\x18V\\x96r_\\x82_F\\x96\\xe3\\x96\\xf3F\\xbc\\x82\\xad\\xfbJ\\xfcr\\xb2\\x02\\xb7\\n\\xbf\\x92\\xc8\\xaf\\xb6\\xfc\\xb4\\xff\\x99\\x1b\\xc2\\xe7\\x7f\\xff\\x13\\xc1\\xf2\\x87\\xed\\x1c\\xebg\\x84\\x0f5\\xe9\\xd6\\xd8\\xf4C|}\\x96\\xb6\\x08\\xe1s\\xdd\\xee\\x95\\x06\\xfa:\\x8f\\xed\\x7fz\\xf1>4\\xef\\x07\\x17\\x9b:<hW\\xfb\\x98\\x0b\\xef\\xff\\xe9\\x93\\xa9\\xb3\\xfd\\x9a\\xe1Ex\\x9f\\x93\\x9f\\xfe\\xf8\\xff\\xf7\\x95x\\x1f\\x99\\xf7/\\xc3?9\\x9ap\\xf2\\x89*\\xeb\\x9aF\\xb4\\xbf\\xc8\\xb3\\xbf\\xa6\\xaf\\x19\\xd1\\xe7\\xac~p\\xdeg\\xfe\\xcf\\xfb\\xc1\\x85\\xef,\\xcbZ\\xe5\\xca\\xe6\\xf1\\x1d\\x9d\\xf7{\\xfd\\x7f\\x7f\\x1f\\xe9?\\xef\\x8f\\xbf[\\xf0\\xe9J\\xf1\\x82\\x1f\\xda\\rp\\xde\\xcf\\xe9\\xf2\\xfb\\xfb\\x97\\x7f\\xfc\\xfe\\xbeL\\xc9q\\xed\\x9a\\xce\\x8d1\\xb6\\xc2x\\xe7}\\xdf\\xc1\\xbf\\xbf?\\xf9\\x9f\\xf7\\xe7\\x87.\\x8a\\xb26\\xfa\\xa2\\xb2\\x19\\xe78\\xef\\xebO\\xfc\\xfd\\xfd\\n\\xde\\xfb\\xf2~\\xe7\\xab2Yj\\xf5[\\xfc\\xe8c\\xa3H>\\xed\\x93\\xdb_\\x13\\xcc\\x8f\\xe8\\xb3ww\\xf0\\xfbA\\xbc\\x0f\\xcf\\xfbAE\\xef\\r\\xde\\x11\\xf2[\\xcb\\xe8A\\x91|\\xfa\\x87\\xb5\\xff\\x1e\\x1c\\x1c\\xc9ga\\xac\\xe0\\xf7\\xf5y\\x1f\\x89\\xf7\\x89\\xa7\\xee\\xfe\\xb4\\xb1K\\xc9\\xf5\\xcd\\xd7E\\xf2\\xc9\\x1d\\xca\\xfewn~$\\x9f\\x83\\x91\\x82\\xdf\\xe7\\xfb\\xe3\\xf7?\\xbe\\xbe\\x0f>\\x15j\\x9e%\\xde\\x8fr\\'\\x9d\\xef_\\xba\\xe9\\xf7\\xef\\x8f\\xf5\\x9f\\xdf\\xdf\\xb4\\xb9\\x12\\xff\\xda\\xfas\\xa6\\xef\\x9c{\\xce\\xf7_\\xbf\\xf0\\xfb\\xf7\\x7f\\xf4\\xf9\\xfd\\xfb\\xdf\\xfb\\xad\\xe9\\x97u\\xca\\xca\\xd7C\\x7f8\\xdf\\x7f\\xef\\xd1\\xef\\xdf\\x7f\\xd6\\xe7\\xf7\\xef\\x7f\\x185s\\xaa\\xf2/\\x8ao\\xbd\\x1a=\\xf2\\xff\\xbe?f\\xe8\\xc8\\xbf}\\x7f\\xe9*\\x15+\\x94,]\\xb8B5?\\x9f\\xd25j\\xfb\\xf9\\x94*l\\xb3B\\xc9J\\xe5LU\\xcd\\xfa\\xfb\\xcc\\xf6\\xfb\\xcc\\xfe\\xfb\\xcc\\xf1\\xfb\\xf4\\xf3)a_]\\xcd/\\x8bO\\x95\\xe2\\xc5\\xca\\x95.Y\\xaaZ\\x1e\\x9f\\xaa\\xd5\\x8b\\xf8\\x05/\\x97\\xfc\\xfc~;\\xd8\\xfc\\x7f\\xcc\\xf2\\xfb%\\x8b\\xcf\\xff\\x01\\xa8\\x90IW'\n"
     ]
    },
    {
     "ename": "error",
     "evalue": "Error -3 while decompressing data: incorrect header check",
     "output_type": "error",
     "traceback": [
      "\u001b[1;31m---------------------------------------------------------------------------\u001b[0m",
      "\u001b[1;31merror\u001b[0m                                     Traceback (most recent call last)",
      "Cell \u001b[1;32mIn[1], line 23\u001b[0m\n\u001b[0;32m     17\u001b[0m filename \u001b[38;5;241m=\u001b[39m \u001b[38;5;124m\"\u001b[39m\u001b[38;5;124mC:/Program Files (x86)/Steam/steamapps/common/No Man\u001b[39m\u001b[38;5;124m'\u001b[39m\u001b[38;5;124ms Sky/GAMEDATA/PCBANKS/NMSARC.MeshPlanetCOMMON.pak\u001b[39m\u001b[38;5;124m\"\u001b[39m\n\u001b[0;32m     18\u001b[0m \u001b[38;5;66;03m# for filename in glob('*.pak'):\u001b[39;00m\n\u001b[0;32m     19\u001b[0m \u001b[38;5;66;03m# print(filename)X\u001b[39;00m\n\u001b[0;32m     20\u001b[0m \u001b[38;5;66;03m# for i, data in zipstreams(filename):\u001b[39;00m\n\u001b[0;32m     21\u001b[0m \u001b[38;5;66;03m# print (i, len(data))\u001b[39;00m\n\u001b[1;32m---> 23\u001b[0m zipstreams(filename)\n",
      "Cell \u001b[1;32mIn[1], line 13\u001b[0m, in \u001b[0;36mzipstreams\u001b[1;34m(filename)\u001b[0m\n\u001b[0;32m     10\u001b[0m \u001b[38;5;28mprint\u001b[39m(data[\u001b[38;5;241m-\u001b[39m\u001b[38;5;241m1164\u001b[39m:])\n\u001b[0;32m     11\u001b[0m \u001b[38;5;66;03m# deco = zlib.decompress(data)\u001b[39;00m\n\u001b[0;32m     12\u001b[0m \u001b[38;5;66;03m# deco = zlib.decompress(data[]\u001b[39;00m\n\u001b[1;32m---> 13\u001b[0m deco \u001b[38;5;241m=\u001b[39m zlib\u001b[38;5;241m.\u001b[39mdecompress(data[\u001b[38;5;241m8\u001b[39m:], wbits\u001b[38;5;241m=\u001b[39m\u001b[38;5;241m15\u001b[39m)\n",
      "\u001b[1;31merror\u001b[0m: Error -3 while decompressing data: incorrect header check"
     ]
    }
   ],
   "source": [
    "import zlib\n",
    "from glob import glob\n",
    "\n",
    "\n",
    "def zipstreams(filename):\n",
    "    \"\"\"Return all zip streams and their positions in file.\"\"\"\n",
    "    with open(filename, 'rb') as fh:\n",
    "        data = fh.read()\n",
    "        print(data[8:164])\n",
    "        print(data[-1164:])\n",
    "        # deco = zlib.decompress(data)\n",
    "        # deco = zlib.decompress(data[]\n",
    "        deco = zlib.decompress(data[8:], wbits=15)\n",
    "\n",
    "\n",
    "# filename = \"c:/users/Owner/Downloads/NoLagLeavingPlanet_v5.pak\"\n",
    "filename = \"C:/Program Files (x86)/Steam/steamapps/common/No Man's Sky/GAMEDATA/PCBANKS/NMSARC.MeshPlanetCOMMON.pak\"\n",
    "# for filename in glob('*.pak'):\n",
    "# print(filename)X\n",
    "# for i, data in zipstreams(filename):\n",
    "# print (i, len(data))\n",
    "\n",
    "zipstreams(filename)"
   ]
  },
  {
   "cell_type": "code",
   "execution_count": 34,
   "metadata": {},
   "outputs": [
    {
     "name": "stdout",
     "output_type": "stream",
     "text": [
      "b'\\x18\\x19\\x01\\x10\\x00\\xef\\xffcompressedString8\\xff\\x06\\xad'\n",
      "b'\\x18'\n",
      "X\n",
      "Y\n",
      "A\n",
      "P\n",
      "@\n",
      "į\n",
      "Ŀ\n",
      "£\n",
      "¯\n",
      "­\n",
      "°\n",
      "²\n",
      "¥\n",
      "³\n",
      "³\n",
      "¥\n",
      "¤\n",
      "\n",
      "´\n",
      "²\n",
      "©\n",
      "®\n",
      "§\n",
      "x\n",
      "Ŀ\n",
      "F\n",
      "í\n"
     ]
    }
   ],
   "source": [
    "comp = zlib.compress(b\"compressedString\", wbits=8, level=0)\n",
    "print(comp)\n",
    "print(comp[0:1])\n",
    "for i in range(0, len(comp)):\n",
    "    print(chr(comp[i]+64))"
   ]
  }
 ],
 "metadata": {
  "kernelspec": {
   "display_name": "base",
   "language": "python",
   "name": "python3"
  },
  "language_info": {
   "codemirror_mode": {
    "name": "ipython",
    "version": 3
   },
   "file_extension": ".py",
   "mimetype": "text/x-python",
   "name": "python",
   "nbconvert_exporter": "python",
   "pygments_lexer": "ipython3",
   "version": "3.12.4"
  }
 },
 "nbformat": 4,
 "nbformat_minor": 2
}
