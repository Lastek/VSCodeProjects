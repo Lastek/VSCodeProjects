{
 "cells": [
  {
   "cell_type": "markdown",
   "metadata": {},
   "source": [
    "Titles are used as such:\n",
    "## <Main Section>\n",
    "### <Sub-Section>\n",
    "\n",
    "Sections for definitions and concepts. Ideally, these are aggregated from the whole section\\chapter. The definitions and explanations are co-mingled.\n",
    "<Definitions and Concepts>\n",
    "    - **<Def 1>**\n",
    "    - **<Def 2>**\n",
    "    - ...\n",
    "<Explanation of Concepts>\n",
    "\n",
    "### <Algorightm>\n",
    "    --New Cell--\n",
    "    <explain what it does>\n",
    "\n",
    "<Explain what happens: ie the indices we use or something>\n",
    "\n",
    "<Explain the logic such as what the loops are doing>\n",
    "\n",
    "## **Sources**\n",
    ">[#] Source Here\n",
    "  \n",
    "In-text citations must be referred to as [#] *location*\n",
    "Must have citation for [#] in Sources section for the specific work being referenced\n",
    "Tables and figures will have a citation below. Full citation for works not in Sources page\n"
   ]
  },
  {
   "cell_type": "markdown",
   "metadata": {},
   "source": [
    "## Graphs (Sections 11, 12, 25)"
   ]
  },
  {
   "cell_type": "markdown",
   "metadata": {},
   "source": [
    "### Definitions and Concepts"
   ]
  },
  {
   "cell_type": "markdown",
   "metadata": {},
   "source": [
    "\n",
    "Graphs are a flat representaiton of connections between things. They're like maps that show connections and they can represent physical connections, like subways and electrical grids, or more abstract connections, such as friendship connections between people or numbers in a matrix.\n",
    "\n",
    "There are two components of a graph. The **node** (or **vertex**) and the **edge**:\n",
    "\n",
    " - **Node** or **Vertex**: The object in a graph.\n",
    " - **Edge**: The connection between two nodes of a graph.\n",
    "\n",
    " The graph can have any number of nodes and each node can be connected to any number of other nodes. In the case of directed graphs, a node could have two connections to another node or a connection to itself.\n"
   ]
  },
  {
   "cell_type": "markdown",
   "metadata": {},
   "source": [
    "## **Sources**\n",
    "\n",
    ">[1] Olds, E., Lysecky, R., & Vahid, F. (2021). CSC 2065: Discrete Structures. zyBooks."
   ]
  }
 ],
 "metadata": {
  "language_info": {
   "name": "python"
  },
  "orig_nbformat": 4
 },
 "nbformat": 4,
 "nbformat_minor": 2
}
